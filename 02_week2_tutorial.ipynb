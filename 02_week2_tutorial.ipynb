{
 "cells": [
  {
   "cell_type": "markdown",
   "metadata": {},
   "source": [
    "# Week 2 Tutorial - Control Flow \n",
    "\n",
    "This week, we will cover the following contents:\n",
    "\n",
    "5. Input and Output \n",
    "    * input()\n",
    "    * print()\n",
    "6. Special Characters \n",
    "    * Backslash \n",
    "\n",
    "1. Booleans, comparison operations, and logical operations\n",
    "\n",
    "1. Loops and Statements \n",
    "    * If statement\n",
    "    * For loop\n",
    "    * While loop\n",
    "2. Loop Control Statements\n",
    "    * Continue statement \n",
    "    * Break statement \n",
    "    \n"
   ]
  },
  {
   "cell_type": "code",
   "execution_count": null,
   "metadata": {},
   "outputs": [],
   "source": []
  },
  {
   "cell_type": "markdown",
   "metadata": {},
   "source": [
    "## Input and Output \n",
    "\n",
    "In Python, there are several ways to handle input and output of data. \n",
    "\n",
    "__`input()` function for input:__\n",
    "\n",
    "We can use the `input()` function to read input from the user through `stdin`. The `input()` function displays prompt message on the console and waits for the user to enter a value. The value entered by the user is returned as a string. For example:"
   ]
  },
  {
   "cell_type": "code",
   "execution_count": null,
   "metadata": {},
   "outputs": [],
   "source": [
    "name = input(\"What is your name?\")"
   ]
  },
  {
   "cell_type": "code",
   "execution_count": null,
   "metadata": {},
   "outputs": [],
   "source": [
    "name"
   ]
  },
  {
   "cell_type": "code",
   "execution_count": null,
   "metadata": {},
   "outputs": [],
   "source": [
    "supervisor = input(\"Who is your supervisor?\")"
   ]
  },
  {
   "cell_type": "code",
   "execution_count": null,
   "metadata": {},
   "outputs": [],
   "source": [
    "supervisor"
   ]
  },
  {
   "cell_type": "code",
   "execution_count": null,
   "metadata": {},
   "outputs": [],
   "source": [
    "age = input(\"What is your age?\")"
   ]
  },
  {
   "cell_type": "code",
   "execution_count": null,
   "metadata": {},
   "outputs": [],
   "source": [
    "type(name)"
   ]
  },
  {
   "cell_type": "markdown",
   "metadata": {},
   "source": [
    "__`print()` function for output:__\n",
    "\n",
    "The `print()` function is used to output data to the console. For example, output the 2 values we have input used the input function on the screen:"
   ]
  },
  {
   "cell_type": "code",
   "execution_count": null,
   "metadata": {},
   "outputs": [],
   "source": [
    "print(name)\n",
    "print(supervisor)"
   ]
  },
  {
   "cell_type": "markdown",
   "metadata": {},
   "source": [
    "We can pass one or more arguments to `print()` and separate them with commas, it will concatenate them into a string and display the result on the screen."
   ]
  },
  {
   "cell_type": "code",
   "execution_count": null,
   "metadata": {},
   "outputs": [],
   "source": [
    "print(\"My name is\", name, \"and my supervisor is\", supervisor, \".\")"
   ]
  },
  {
   "cell_type": "markdown",
   "metadata": {},
   "source": [
    "__The dot in the end is not in place, why is that?__\n",
    "\n",
    "By default, when print multiple objects using `print()`, the `print()` function will put a space between the objects. The variable `supervisor` and the dot are two separated objects so they have a space in between.\n",
    "\n",
    "How we can delete the additional space?\n",
    "\n",
    "__`print()` with option `sep=`:__\n",
    "\n",
    "The option `sep=` allows us to choose which delimiter to use rather than the default space character. For example:"
   ]
  },
  {
   "cell_type": "code",
   "execution_count": null,
   "metadata": {},
   "outputs": [],
   "source": [
    "print(\"My name is\", name, \"and my supervisor is\", supervisor, \".\", sep=\"!\")"
   ]
  },
  {
   "cell_type": "markdown",
   "metadata": {},
   "source": [
    "__Exercise: use the `sep=` option to make the additional space disappear:__"
   ]
  },
  {
   "cell_type": "code",
   "execution_count": null,
   "metadata": {},
   "outputs": [],
   "source": [
    "print(\"My name is \", name, \" and my supervisor is \", supervisor, \".\", sep=\"\")"
   ]
  },
  {
   "cell_type": "markdown",
   "metadata": {},
   "source": [
    "### Special Characters\n",
    "\n",
    "__Backslash `\\`:__\n",
    "\n",
    "In Python, a backslash is used as an escape character to represent certain special characters that have a specific meaning. When a backslash is followed by a character, it creates a special sequence that represents a character that cannot be typed directly in a string.\n",
    "\n",
    "The commonly used blackslash escape sequences are:\n",
    "* `\\n`: represents a new line character\n",
    "* `\\t`: represents a tab character \n",
    "* `\\\"`: represents a double quote character without the meaning of creating a string \n",
    "* `\\'`: represents a single quote character without the meaning of creating a string \n",
    "\n",
    "For example, use print function to create a table:"
   ]
  },
  {
   "cell_type": "code",
   "execution_count": null,
   "metadata": {},
   "outputs": [],
   "source": [
    "print(\"Title1\\tTitle2\\tTitle3\\nd\\te\\tf\")"
   ]
  },
  {
   "cell_type": "code",
   "execution_count": null,
   "metadata": {},
   "outputs": [],
   "source": [
    "print = 0"
   ]
  },
  {
   "cell_type": "markdown",
   "metadata": {},
   "source": [
    "__Exercise: create print a table like the image below__\n",
    "\n",
    "![table](./figures/table.png)\n",
    "\n",
    "Write your answer here:"
   ]
  },
  {
   "cell_type": "code",
   "execution_count": null,
   "metadata": {},
   "outputs": [],
   "source": []
  },
  {
   "cell_type": "markdown",
   "metadata": {},
   "source": [
    "Example of escaping double quotes:"
   ]
  },
  {
   "cell_type": "code",
   "execution_count": null,
   "metadata": {},
   "outputs": [],
   "source": [
    "print(\"She said \\\"Hello\\\"\")"
   ]
  },
  {
   "cell_type": "markdown",
   "metadata": {},
   "source": [
    "__Exercise: practise the escape of single quotes__"
   ]
  },
  {
   "cell_type": "code",
   "execution_count": null,
   "metadata": {},
   "outputs": [],
   "source": []
  },
  {
   "cell_type": "code",
   "execution_count": null,
   "metadata": {},
   "outputs": [],
   "source": []
  },
  {
   "cell_type": "markdown",
   "metadata": {},
   "source": [
    "### Booleans `bool`\n",
    "\n",
    "Booleans in Python are a data type that can have one of two possible values: True or False. \n",
    "\n",
    "They are commonly used in conditional statements, comparisons, and logical operations. Booleans in Python are a subclass of integers, with True representing the integer 1 and False representing the integer 0.\n",
    "\n",
    "### Comparison Operations\n",
    "\n",
    "Comparison operations, also known as relational operators, are used in Python to compare values and determine their relationship. They return a boolean value, either TRUE or FALSE, depending on whether the comparison is true or false. \n",
    "\n",
    "__Equality: `==`__"
   ]
  },
  {
   "cell_type": "code",
   "execution_count": null,
   "metadata": {},
   "outputs": [],
   "source": [
    "1 == 1"
   ]
  },
  {
   "cell_type": "code",
   "execution_count": null,
   "metadata": {},
   "outputs": [],
   "source": [
    "1.0 == 1"
   ]
  },
  {
   "cell_type": "code",
   "execution_count": null,
   "metadata": {},
   "outputs": [],
   "source": [
    "1 == 3"
   ]
  },
  {
   "cell_type": "code",
   "execution_count": null,
   "metadata": {},
   "outputs": [],
   "source": [
    "66 == \"66\""
   ]
  },
  {
   "cell_type": "code",
   "execution_count": null,
   "metadata": {},
   "outputs": [],
   "source": [
    "\"Blue\" == \"Red\""
   ]
  },
  {
   "cell_type": "code",
   "execution_count": null,
   "metadata": {},
   "outputs": [],
   "source": [
    "\"Blue\" == 'Blue'"
   ]
  },
  {
   "cell_type": "markdown",
   "metadata": {},
   "source": [
    "Think of some examples yourself and try the equal to `==` operator:"
   ]
  },
  {
   "cell_type": "code",
   "execution_count": null,
   "metadata": {},
   "outputs": [],
   "source": []
  },
  {
   "cell_type": "markdown",
   "metadata": {},
   "source": [
    "__Inequality: `!=`__"
   ]
  },
  {
   "cell_type": "code",
   "execution_count": null,
   "metadata": {},
   "outputs": [],
   "source": [
    "1 != 1"
   ]
  },
  {
   "cell_type": "code",
   "execution_count": null,
   "metadata": {},
   "outputs": [],
   "source": [
    "1 != 2.0"
   ]
  },
  {
   "cell_type": "code",
   "execution_count": null,
   "metadata": {},
   "outputs": [],
   "source": [
    "66 != \"66\""
   ]
  },
  {
   "cell_type": "code",
   "execution_count": null,
   "metadata": {},
   "outputs": [],
   "source": [
    "\"Blue\" != \"Red\""
   ]
  },
  {
   "cell_type": "code",
   "execution_count": null,
   "metadata": {},
   "outputs": [],
   "source": [
    "\"Blue\" != \"Blue\""
   ]
  },
  {
   "cell_type": "markdown",
   "metadata": {},
   "source": [
    "Think of some examples yourself and try the not equal to `!=` operator:"
   ]
  },
  {
   "cell_type": "code",
   "execution_count": null,
   "metadata": {},
   "outputs": [],
   "source": []
  },
  {
   "cell_type": "markdown",
   "metadata": {},
   "source": [
    "__Greater than: `>`__"
   ]
  },
  {
   "cell_type": "code",
   "execution_count": null,
   "metadata": {},
   "outputs": [],
   "source": [
    "1 > 2"
   ]
  },
  {
   "cell_type": "code",
   "execution_count": null,
   "metadata": {},
   "outputs": [],
   "source": [
    "3 > 2"
   ]
  },
  {
   "cell_type": "markdown",
   "metadata": {},
   "source": [
    "Comparing an integer with a string:"
   ]
  },
  {
   "cell_type": "code",
   "execution_count": null,
   "metadata": {},
   "outputs": [],
   "source": [
    "66 > \"55\""
   ]
  },
  {
   "cell_type": "markdown",
   "metadata": {},
   "source": [
    "Turns out we can't compare integers with strings.\n",
    "\n",
    "Comparing a string with a string:"
   ]
  },
  {
   "cell_type": "code",
   "execution_count": null,
   "metadata": {},
   "outputs": [],
   "source": [
    "\"123\" > \"100\""
   ]
  },
  {
   "cell_type": "code",
   "execution_count": null,
   "metadata": {},
   "outputs": [],
   "source": [
    "\"10000\" > \"101\""
   ]
  },
  {
   "cell_type": "code",
   "execution_count": null,
   "metadata": {},
   "outputs": [],
   "source": [
    "\"apple\" > \"banana\""
   ]
  },
  {
   "cell_type": "code",
   "execution_count": null,
   "metadata": {},
   "outputs": [],
   "source": [
    "\"appleapple\" > \"banana\""
   ]
  },
  {
   "cell_type": "markdown",
   "metadata": {},
   "source": [
    "Python compares strings lexicographically based on their ASCII values. The comparison starts with the first character of the strings and proceeds to subsequent characters until a difference is found or until the end of one of the strings is reached. "
   ]
  },
  {
   "cell_type": "code",
   "execution_count": null,
   "metadata": {},
   "outputs": [],
   "source": [
    "\"Aa\" > \"aa\""
   ]
  },
  {
   "cell_type": "markdown",
   "metadata": {},
   "source": [
    "If there is no difference until the end of one string, it will compare the lengths."
   ]
  },
  {
   "cell_type": "code",
   "execution_count": null,
   "metadata": {},
   "outputs": [],
   "source": [
    "\"1231\" > \"123\""
   ]
  },
  {
   "cell_type": "markdown",
   "metadata": {},
   "source": [
    "Think of some examples yourself and try the greater than `>` operator:"
   ]
  },
  {
   "cell_type": "code",
   "execution_count": null,
   "metadata": {},
   "outputs": [],
   "source": []
  },
  {
   "cell_type": "markdown",
   "metadata": {},
   "source": [
    "__Less than:__ `<` same usage as above. \n",
    "\n",
    "Think of some examples yourself and try the less than `<` operator:"
   ]
  },
  {
   "cell_type": "code",
   "execution_count": null,
   "metadata": {},
   "outputs": [],
   "source": []
  },
  {
   "cell_type": "markdown",
   "metadata": {},
   "source": [
    "__Greater than or equal to:__ `>=`"
   ]
  },
  {
   "cell_type": "code",
   "execution_count": null,
   "metadata": {},
   "outputs": [],
   "source": [
    "2.0 >= 2"
   ]
  },
  {
   "cell_type": "code",
   "execution_count": null,
   "metadata": {},
   "outputs": [],
   "source": [
    "2.0 >= 1"
   ]
  },
  {
   "cell_type": "code",
   "execution_count": null,
   "metadata": {},
   "outputs": [],
   "source": [
    "2.0 >= 3.0"
   ]
  },
  {
   "cell_type": "code",
   "execution_count": null,
   "metadata": {},
   "outputs": [],
   "source": [
    "66 >= \"66\""
   ]
  },
  {
   "cell_type": "code",
   "execution_count": null,
   "metadata": {},
   "outputs": [],
   "source": [
    "\"abc\" >= \"ab\""
   ]
  },
  {
   "cell_type": "code",
   "execution_count": null,
   "metadata": {},
   "outputs": [],
   "source": [
    "\"abc\" >= \"abcf\""
   ]
  },
  {
   "cell_type": "markdown",
   "metadata": {},
   "source": [
    "Think of some examples yourself and try the greater than or equal to `>=` operator:"
   ]
  },
  {
   "cell_type": "code",
   "execution_count": null,
   "metadata": {},
   "outputs": [],
   "source": []
  },
  {
   "cell_type": "markdown",
   "metadata": {},
   "source": [
    "__Less than or equal to:__ `<=`\n",
    "\n",
    "Think of some examples yourself and try the less than or equal to `<=` operator:"
   ]
  },
  {
   "cell_type": "code",
   "execution_count": null,
   "metadata": {},
   "outputs": [],
   "source": []
  },
  {
   "cell_type": "markdown",
   "metadata": {},
   "source": [
    "__Chain multiple comparisons together:__"
   ]
  },
  {
   "cell_type": "code",
   "execution_count": null,
   "metadata": {},
   "outputs": [],
   "source": [
    "1 < 2 < 3"
   ]
  },
  {
   "cell_type": "code",
   "execution_count": null,
   "metadata": {},
   "outputs": [],
   "source": [
    "1.0 < 1.0 < 2"
   ]
  },
  {
   "cell_type": "code",
   "execution_count": null,
   "metadata": {},
   "outputs": [],
   "source": [
    "\"123\" < \"1234\" < \"12345\""
   ]
  },
  {
   "cell_type": "markdown",
   "metadata": {},
   "source": [
    "Think of some examples yourself and try to chain multiple comparisons together:"
   ]
  },
  {
   "cell_type": "code",
   "execution_count": null,
   "metadata": {},
   "outputs": [],
   "source": []
  },
  {
   "cell_type": "markdown",
   "metadata": {},
   "source": [
    "### Logical Operations \n",
    "\n",
    "Logical operations are used to combine or modify boolean values. There are three primary logical operators `and`, `or`, and `not`. They are used to perform conjunction, disjunction, and negation operations, respectively.\n",
    "\n",
    "__`and` (conjunction):__ \n",
    "\n",
    "You have to satisfy both conditions to be True. "
   ]
  },
  {
   "cell_type": "code",
   "execution_count": null,
   "metadata": {},
   "outputs": [],
   "source": [
    "True and True"
   ]
  },
  {
   "cell_type": "code",
   "execution_count": null,
   "metadata": {},
   "outputs": [],
   "source": [
    "True and False"
   ]
  },
  {
   "cell_type": "code",
   "execution_count": null,
   "metadata": {},
   "outputs": [],
   "source": [
    "False and False "
   ]
  },
  {
   "cell_type": "markdown",
   "metadata": {},
   "source": [
    "__`&` can represent `and` as well, please give it a try:__"
   ]
  },
  {
   "cell_type": "code",
   "execution_count": null,
   "metadata": {},
   "outputs": [],
   "source": [
    "True & False"
   ]
  },
  {
   "cell_type": "markdown",
   "metadata": {},
   "source": [
    "__`or` (disjunction):__\n",
    "\n",
    "You only need to meet one of the two conditions to be True."
   ]
  },
  {
   "cell_type": "code",
   "execution_count": null,
   "metadata": {},
   "outputs": [],
   "source": [
    "True or True"
   ]
  },
  {
   "cell_type": "code",
   "execution_count": null,
   "metadata": {},
   "outputs": [],
   "source": [
    "True or False"
   ]
  },
  {
   "cell_type": "code",
   "execution_count": null,
   "metadata": {},
   "outputs": [],
   "source": [
    "False or False"
   ]
  },
  {
   "cell_type": "markdown",
   "metadata": {},
   "source": [
    "__`|` can represent `or`, please give it a try:__"
   ]
  },
  {
   "cell_type": "code",
   "execution_count": null,
   "metadata": {},
   "outputs": [],
   "source": [
    "True | False"
   ]
  },
  {
   "cell_type": "markdown",
   "metadata": {},
   "source": [
    "__`not` (negation):__"
   ]
  },
  {
   "cell_type": "code",
   "execution_count": null,
   "metadata": {},
   "outputs": [],
   "source": [
    "not True"
   ]
  },
  {
   "cell_type": "code",
   "execution_count": null,
   "metadata": {},
   "outputs": [],
   "source": [
    "not False"
   ]
  },
  {
   "cell_type": "code",
   "execution_count": null,
   "metadata": {},
   "outputs": [],
   "source": []
  },
  {
   "cell_type": "code",
   "execution_count": null,
   "metadata": {},
   "outputs": [],
   "source": []
  },
  {
   "cell_type": "code",
   "execution_count": null,
   "metadata": {},
   "outputs": [],
   "source": []
  },
  {
   "cell_type": "code",
   "execution_count": null,
   "metadata": {},
   "outputs": [],
   "source": []
  },
  {
   "cell_type": "markdown",
   "metadata": {},
   "source": [
    "## Loops and Statements\n",
    "\n",
    "### If Statement\n",
    "\n",
    "In Python, the if statement is a conditional statement that allows you to execute a block of code only if a certain condition is True. \n",
    "\n",
    "It follows the general syntax:"
   ]
  },
  {
   "cell_type": "code",
   "execution_count": null,
   "metadata": {},
   "outputs": [],
   "source": [
    "if condition:\n",
    "    # code block to be executed if condition is True"
   ]
  },
  {
   "cell_type": "markdown",
   "metadata": {},
   "source": [
    "The condition in the if statement is an expression that evaluates to a boolean value (True or False), it means you can't if a number or a string, it doesn't make sense. For example, ```if 5:``` or ```if \"apple and banana\":```.\n",
    "\n",
    "* If the condition is True, the code block will be __executed__.\n",
    "* If the condition is False, the code block will be __skipped__.\n",
    "\n",
    "__A simple example of `if` statement:__"
   ]
  },
  {
   "cell_type": "code",
   "execution_count": null,
   "metadata": {},
   "outputs": [],
   "source": [
    "x = -10\n",
    "\n",
    "if x > 0:  \n",
    "    print(\"x is positive.\")"
   ]
  },
  {
   "cell_type": "markdown",
   "metadata": {},
   "source": [
    "Above, when our x is greater than 0 the code will print \"x is positive\", and when our x is not greater than 0 the code will do nothing because it will skip the indented line."
   ]
  },
  {
   "cell_type": "markdown",
   "metadata": {},
   "source": [
    "__`if...elif...else` for multiple conditions:__\n",
    "\n",
    "The general syntax:"
   ]
  },
  {
   "cell_type": "code",
   "execution_count": null,
   "metadata": {
    "scrolled": false
   },
   "outputs": [],
   "source": [
    "if condition:\n",
    "    # code block to be executed if condition is True\n",
    "elif condition:\n",
    "    # code block to be executed if condition is True\n",
    "else:\n",
    "    # code block to be executed when other conditions have not been met "
   ]
  },
  {
   "cell_type": "markdown",
   "metadata": {},
   "source": [
    "You can use as many elif as you want, for example:"
   ]
  },
  {
   "cell_type": "code",
   "execution_count": null,
   "metadata": {
    "scrolled": false
   },
   "outputs": [],
   "source": [
    "# Example of if-elif-else statement to determine grade\n",
    "score = int(input(\"Please enter your score:\"))\n",
    "\n",
    "if score >= 85:\n",
    "    grade = 'HD'  # High Distinction\n",
    "elif score >= 75:\n",
    "    grade = 'D'  # Distinction\n",
    "elif score >= 65:\n",
    "    grade = 'C'  # Credit\n",
    "elif score >= 50:\n",
    "    grade = 'P'  # Pass\n",
    "else:\n",
    "    grade = 'F'  # Fail\n",
    "\n",
    "print(\"Score:\", score)\n",
    "print(\"Grade:\", grade)"
   ]
  },
  {
   "cell_type": "markdown",
   "metadata": {},
   "source": [
    "__Exercise: program a BMI calculator__\n",
    "\n",
    "The equation for calculating BMI is: \n",
    "\n",
    "_BMI = Weight(kg) / (Height(meters)^2)_\n",
    "\n",
    "And the health result relate to BMI is:\n",
    "* Underweight: BMI < 18.5\n",
    "* Healthy: 18.5 =< BMI < 25\n",
    "* Overweight: 25 =< BMI < 30\n",
    "* Obese: BMI > 30"
   ]
  },
  {
   "cell_type": "code",
   "execution_count": null,
   "metadata": {},
   "outputs": [],
   "source": [
    "# write your solution here\n",
    "# hint: convert the input data type to float using function float() \n",
    "\n",
    "weight = float(input(\"What is your weight in kg?\"))\n",
    "height = float(input(\"What is your height in meters?\"))\n",
    "\n",
    "BMI = weight / (height**2)\n",
    "\n",
    "if BMI < 18.5:\n",
    "    condition = \"Underweight\"\n",
    "elif 18.5 <= BMI < 25:\n",
    "    condition = \"Healthy\"\n",
    "elif 25 <= BMI < 30:\n",
    "    condition = \"Overweight\"\n",
    "else: \n",
    "    condition = \"Obese\"\n",
    "    \n",
    "print(\"Your BMI is \", BMI, \", and you are \", condition, \".\", sep=\"\")"
   ]
  },
  {
   "cell_type": "markdown",
   "metadata": {},
   "source": [
    "### For Loop\n",
    "\n",
    "Computing is mostly about doing the same thing again and again in an automated fashion. \n",
    "\n",
    "A for loop is a control flow statement in Python that is used to iterate over a sequence of values or a collection, and execute a block of code once for each element in the sequence. It allows you to repeatedly perform a set of tasks or operations on each element in the sequence without having to write repetitive code. \n",
    "\n",
    "The basic idea behind a for loop is to iterate over each element in an iterable, such as a list, tuple, string, or dictionary, and perform some action for each element. The loop automatically handles the iteration process, moving from one element to the next until all elements have been processed.\n",
    "\n",
    "An example task that we might want to repeat is printing each character in a DNA sequence on a line of its own. "
   ]
  },
  {
   "cell_type": "code",
   "execution_count": null,
   "metadata": {
    "scrolled": false
   },
   "outputs": [],
   "source": [
    "DNAseq = 'atgtataacattggccataccccgtatacccatgcgaaccatattggccattaa'"
   ]
  },
  {
   "cell_type": "markdown",
   "metadata": {},
   "source": [
    "One way to do this would be using a series of print statements: "
   ]
  },
  {
   "cell_type": "code",
   "execution_count": null,
   "metadata": {
    "scrolled": true
   },
   "outputs": [],
   "source": [
    "print(DNAseq[0])\n",
    "print(DNAseq[1])\n",
    "print(DNAseq[2])\n",
    "print(DNAseq[3])\n",
    "print(DNAseq[4])"
   ]
  },
  {
   "cell_type": "markdown",
   "metadata": {},
   "source": [
    "But we have to type many lines of code to print all of the bases from the sequence. `for` loop can do the job in a much simpler way:"
   ]
  },
  {
   "cell_type": "code",
   "execution_count": null,
   "metadata": {
    "scrolled": true
   },
   "outputs": [],
   "source": [
    "for base in DNAseq:\n",
    "    print(base)"
   ]
  },
  {
   "cell_type": "markdown",
   "metadata": {},
   "source": [
    "Only two lines of code, we can print all of the bases. And this code can be applied to other sequences as well, for example:"
   ]
  },
  {
   "cell_type": "code",
   "execution_count": null,
   "metadata": {},
   "outputs": [],
   "source": [
    "DNAseq1 = \"ATCGGATCGTAGCTA\""
   ]
  },
  {
   "cell_type": "code",
   "execution_count": null,
   "metadata": {
    "scrolled": true
   },
   "outputs": [],
   "source": [
    "for base in DNAseq1:\n",
    "    print(base)"
   ]
  },
  {
   "cell_type": "markdown",
   "metadata": {},
   "source": [
    "__Exercise: print out all the elements in the variable `fruit_basket`__"
   ]
  },
  {
   "cell_type": "code",
   "execution_count": null,
   "metadata": {},
   "outputs": [],
   "source": [
    "fruit_basket = [\"apple\", \"banana\", \"cherry\"]"
   ]
  },
  {
   "cell_type": "code",
   "execution_count": null,
   "metadata": {},
   "outputs": [],
   "source": []
  },
  {
   "cell_type": "markdown",
   "metadata": {},
   "source": [
    "The syntax of a for loop is:"
   ]
  },
  {
   "cell_type": "code",
   "execution_count": null,
   "metadata": {
    "scrolled": false
   },
   "outputs": [],
   "source": [
    "for variable in sequence:\n",
    "    do something with variable "
   ]
  },
  {
   "cell_type": "markdown",
   "metadata": {},
   "source": [
    "For loop can be used to write many functions from simple to complicated ones. We can use for loop to write some of the simple functions we use frequently in our daily life, for example:\n",
    "\n",
    "Use `for` loop to calculate the length of an object:"
   ]
  },
  {
   "cell_type": "code",
   "execution_count": null,
   "metadata": {},
   "outputs": [],
   "source": [
    "DNAseq"
   ]
  },
  {
   "cell_type": "code",
   "execution_count": null,
   "metadata": {},
   "outputs": [],
   "source": [
    "length = 0\n",
    "\n",
    "for base in DNAseq:\n",
    "    length = length + 1\n",
    "\n",
    "print(\"The DNAseq is\", length, \"bases long.\")"
   ]
  },
  {
   "cell_type": "markdown",
   "metadata": {},
   "source": [
    "__Exercise: calculate the length of `DNAseq1`__"
   ]
  },
  {
   "cell_type": "code",
   "execution_count": null,
   "metadata": {},
   "outputs": [],
   "source": []
  },
  {
   "cell_type": "markdown",
   "metadata": {},
   "source": [
    "__Exercise: calculate how many fruits are in the `basket`__"
   ]
  },
  {
   "cell_type": "code",
   "execution_count": null,
   "metadata": {},
   "outputs": [],
   "source": [
    "basket = [\"apple\", \"banana\", \"peach\", \"nectarine\", \"apple_2\", \"pineapple\"]"
   ]
  },
  {
   "cell_type": "code",
   "execution_count": null,
   "metadata": {},
   "outputs": [],
   "source": []
  },
  {
   "cell_type": "markdown",
   "metadata": {},
   "source": [
    "We can also use `for` loop to write a sum function:"
   ]
  },
  {
   "cell_type": "code",
   "execution_count": null,
   "metadata": {},
   "outputs": [],
   "source": [
    "numbers = (55, 85, 2, 69, 6.5)"
   ]
  },
  {
   "cell_type": "code",
   "execution_count": null,
   "metadata": {},
   "outputs": [],
   "source": [
    "total = 0 \n",
    "\n",
    "for number in numbers:\n",
    "    total = total + number\n",
    "\n",
    "print(\"The sum of numbers are \", total, \".\", sep=\"\")"
   ]
  },
  {
   "cell_type": "markdown",
   "metadata": {},
   "source": [
    "__Exercise: calculate the sum of `random_nums`__"
   ]
  },
  {
   "cell_type": "code",
   "execution_count": null,
   "metadata": {},
   "outputs": [],
   "source": [
    "random_nums = [12, 0.8375428904650853, 91, 0.6966343650289288, 69, 0.24629010004599906, 23, 0.8102107711173415, 24, 0.1895123376310659]"
   ]
  },
  {
   "cell_type": "code",
   "execution_count": null,
   "metadata": {},
   "outputs": [],
   "source": [
    "total = 0 \n",
    "\n",
    "for number in random_nums:\n",
    "    total = total + number\n",
    "\n",
    "print(\"The sum of numbers are \", total, \".\", sep=\"\")"
   ]
  },
  {
   "cell_type": "markdown",
   "metadata": {},
   "source": [
    "But these simple functions we don't need to write it by ourselves every time, there are built-in functions in Python.\n",
    "\n",
    "The function `len()` for calculating length:"
   ]
  },
  {
   "cell_type": "code",
   "execution_count": null,
   "metadata": {
    "scrolled": true
   },
   "outputs": [],
   "source": [
    "len(DNAseq)"
   ]
  },
  {
   "cell_type": "code",
   "execution_count": null,
   "metadata": {},
   "outputs": [],
   "source": [
    "sum(numbers)"
   ]
  },
  {
   "cell_type": "markdown",
   "metadata": {},
   "source": [
    "__Exercise: calculate the length of `DNAseq1` and `basket` using `len()`__"
   ]
  },
  {
   "cell_type": "code",
   "execution_count": null,
   "metadata": {},
   "outputs": [],
   "source": []
  },
  {
   "cell_type": "markdown",
   "metadata": {},
   "source": [
    "The function `sum()` for calculating the sum:"
   ]
  },
  {
   "cell_type": "code",
   "execution_count": null,
   "metadata": {},
   "outputs": [],
   "source": [
    "sum(numbers)"
   ]
  },
  {
   "cell_type": "markdown",
   "metadata": {},
   "source": [
    "__Exercise: calculate the sum of `random_nums`__"
   ]
  },
  {
   "cell_type": "code",
   "execution_count": null,
   "metadata": {},
   "outputs": [],
   "source": []
  },
  {
   "cell_type": "markdown",
   "metadata": {},
   "source": [
    "### Iterable\n",
    "\n",
    "Not every data type can be iterated by a for loop. An iterable is any object that can be looped over with a `for` loop. This includes:\n",
    "* Lists\n",
    "* Tuples \n",
    "* Strings \n",
    "* Sets\n",
    "* Dictionaries \n",
    "\n",
    "Data types that are not iterables:\n",
    "* Integers and floats\n",
    "* Booleans"
   ]
  },
  {
   "cell_type": "markdown",
   "metadata": {},
   "source": [
    "### Iterate over indexes in For Loop\n",
    "\n",
    "All practises we did before we looped everthing from the beginning to the end, but there are times we don't want to iterate over everything. \n",
    "\n",
    "What if I want to run the commands on half of the list? or if I want to run the commands on every other element?\n",
    "\n",
    "Python has a built-in function called `range()` that creates a list of numbers, we can loop through these numbers and use it as indexes to get the elements we want. The `range()` function returns a sequence of numbers, starting from 0 by default, and increments by 1 (by default), and stops before a specified number.\n",
    "\n",
    "__Syntax:__ `range(start, stop, increment)`\n",
    "\n",
    "Starting from 0 and incrementing by 1 until 10 (exclusive):"
   ]
  },
  {
   "cell_type": "code",
   "execution_count": null,
   "metadata": {
    "scrolled": false
   },
   "outputs": [],
   "source": [
    "for i in range(10): \n",
    "    print(i)"
   ]
  },
  {
   "cell_type": "markdown",
   "metadata": {},
   "source": [
    "Starting from 2 and incrementing by 1 until 5 (exclusive):"
   ]
  },
  {
   "cell_type": "code",
   "execution_count": null,
   "metadata": {},
   "outputs": [],
   "source": [
    "for i in range(2,5):\n",
    "    print(i)"
   ]
  },
  {
   "cell_type": "markdown",
   "metadata": {},
   "source": [
    "Starting from 10 and incrementing by 5 until 30 (exclusive):"
   ]
  },
  {
   "cell_type": "code",
   "execution_count": null,
   "metadata": {},
   "outputs": [],
   "source": [
    "for i in range(10,30,5): \n",
    "    print(i)"
   ]
  },
  {
   "cell_type": "markdown",
   "metadata": {},
   "source": [
    "__Exercise: Write a loop that prints all the even numbers in the range between 1 and 10 (inclusive)__"
   ]
  },
  {
   "cell_type": "code",
   "execution_count": null,
   "metadata": {},
   "outputs": [],
   "source": []
  },
  {
   "cell_type": "markdown",
   "metadata": {},
   "source": [
    "__Exercise: Write a loop that prints every 5th base from variable DNAseq__"
   ]
  },
  {
   "cell_type": "code",
   "execution_count": null,
   "metadata": {},
   "outputs": [],
   "source": []
  },
  {
   "cell_type": "markdown",
   "metadata": {},
   "source": [
    "__Exercise: Write a loop that put all the codons into a new list called `codons`__"
   ]
  },
  {
   "cell_type": "code",
   "execution_count": null,
   "metadata": {},
   "outputs": [],
   "source": []
  },
  {
   "cell_type": "markdown",
   "metadata": {},
   "source": [
    "### More exercises on for loop\n",
    "\n",
    "Use for loop to count the number of base \"a\" in DNAseq:"
   ]
  },
  {
   "cell_type": "code",
   "execution_count": null,
   "metadata": {},
   "outputs": [],
   "source": [
    "DNAseq = 'atgtataacattggccataccccgtatacccatgcgaaccatattggccattaa'\n",
    "\n",
    "a_count = 0\n",
    "\n",
    "for base in DNAseq:\n",
    "    if base == \"a\":\n",
    "        a_count = a_count + 1\n",
    "\n",
    "print(\"The number of base 'a' in DNAseq is\", a_count)"
   ]
  },
  {
   "cell_type": "markdown",
   "metadata": {},
   "source": [
    "__Exercise: Count the number of each rugular base [a,t,c,g] in the sequence DNAseq__"
   ]
  },
  {
   "cell_type": "code",
   "execution_count": null,
   "metadata": {},
   "outputs": [],
   "source": [
    "a_count = 0\n",
    "t_count = 0\n",
    "c_count = 0\n",
    "g_count = 0\n",
    "\n",
    "for base in DNAseq:\n",
    "    if base == \"a\":\n",
    "        a_count = a_count + 1\n",
    "    elif base == \"t\":\n",
    "        t_count = t_count + 1\n",
    "    elif base == \"c\":\n",
    "        c_count = c_count + 1\n",
    "    elif base == \"g\":\n",
    "        g_count = g_count + 1\n",
    "    else: \n",
    "        print(\"The base\", base, \"is not in [a,t,c,g]\")\n",
    "\n",
    "print(\"The number of base [a,t,c,g] is \", a_count, t_count, c_count, g_count)"
   ]
  },
  {
   "cell_type": "markdown",
   "metadata": {},
   "source": [
    "__Exercise: think of an easier way to do the above function (hint: use dictionary).__"
   ]
  },
  {
   "cell_type": "code",
   "execution_count": null,
   "metadata": {},
   "outputs": [],
   "source": [
    "base_numbers = {\"a\": 0, \"t\": 0, \"c\": 0, \"g\": 0}\n",
    "\n",
    "for base in DNAseq:\n",
    "    base_numbers[base] = base_numbers[base] + 1\n",
    "    \n",
    "print(base_numbers)"
   ]
  },
  {
   "cell_type": "markdown",
   "metadata": {},
   "source": [
    "Use for loop to build a reverse complement of DNAseq:"
   ]
  },
  {
   "cell_type": "code",
   "execution_count": null,
   "metadata": {},
   "outputs": [],
   "source": [
    "base_pair_dict = {'a' : 't', \n",
    "                  't' : 'a', \n",
    "                  'g' : 'c', \n",
    "                  'c' : 'g'}"
   ]
  },
  {
   "cell_type": "markdown",
   "metadata": {},
   "source": [
    "As previous learned, we can use keys as indexes to access the value of a key:"
   ]
  },
  {
   "cell_type": "code",
   "execution_count": null,
   "metadata": {},
   "outputs": [],
   "source": [
    "base_pair_dict[\"a\"]"
   ]
  },
  {
   "cell_type": "markdown",
   "metadata": {},
   "source": [
    "__Exercise: reverse complement a DNA sequence__"
   ]
  },
  {
   "cell_type": "code",
   "execution_count": null,
   "metadata": {},
   "outputs": [],
   "source": [
    "reverse_DNAseq = DNAseq[::-1]\n",
    "rc_DNAseq = ''\n",
    "\n",
    "for i in reverse_DNAseq:\n",
    "    rc_DNAseq +=  base_pair_dict[i]\n",
    "    \n",
    "print(rc_DNAseq)"
   ]
  },
  {
   "cell_type": "code",
   "execution_count": null,
   "metadata": {},
   "outputs": [],
   "source": []
  },
  {
   "cell_type": "markdown",
   "metadata": {},
   "source": [
    "__Exercise: translate the DNAseq to protein sequence__"
   ]
  },
  {
   "cell_type": "code",
   "execution_count": null,
   "metadata": {},
   "outputs": [],
   "source": [
    "coding_table_dict = { \n",
    "        'ATA':'I', 'ATC':'I', 'ATT':'I', 'ATG':'M', \n",
    "        'ACA':'T', 'ACC':'T', 'ACG':'T', 'ACT':'T', \n",
    "        'AAC':'N', 'AAT':'N', 'AAA':'K', 'AAG':'K', \n",
    "        'AGC':'S', 'AGT':'S', 'AGA':'R', 'AGG':'R',                  \n",
    "        'CTA':'L', 'CTC':'L', 'CTG':'L', 'CTT':'L', \n",
    "        'CCA':'P', 'CCC':'P', 'CCG':'P', 'CCT':'P', \n",
    "        'CAC':'H', 'CAT':'H', 'CAA':'Q', 'CAG':'Q', \n",
    "        'CGA':'R', 'CGC':'R', 'CGG':'R', 'CGT':'R', \n",
    "        'GTA':'V', 'GTC':'V', 'GTG':'V', 'GTT':'V', \n",
    "        'GCA':'A', 'GCC':'A', 'GCG':'A', 'GCT':'A', \n",
    "        'GAC':'D', 'GAT':'D', 'GAA':'E', 'GAG':'E', \n",
    "        'GGA':'G', 'GGC':'G', 'GGG':'G', 'GGT':'G', \n",
    "        'TCA':'S', 'TCC':'S', 'TCG':'S', 'TCT':'S', \n",
    "        'TTC':'F', 'TTT':'F', 'TTA':'L', 'TTG':'L', \n",
    "        'TAC':'Y', 'TAT':'Y', 'TAA':'_', 'TAG':'_', \n",
    "        'TGC':'C', 'TGT':'C', 'TGA':'_', 'TGG':'W', \n",
    "    } "
   ]
  },
  {
   "cell_type": "code",
   "execution_count": null,
   "metadata": {},
   "outputs": [],
   "source": [
    "protein_seq = \"\"\n",
    "\n",
    "for i in range(0, len(DNAseq), 3):\n",
    "    codon = DNAseq[i:i+3]\n",
    "    codon_upper = codon.upper()\n",
    "    protein_seq += coding_table_dict[codon_upper]\n",
    "\n",
    "print(protein_seq)"
   ]
  },
  {
   "cell_type": "markdown",
   "metadata": {},
   "source": [
    "### While Loop\n",
    "\n",
    "A while loop allows you to repeatedly execute a block of code as long as a certain condition is True. \n",
    "\n",
    "The general syntax of a while loop in Python is as follows:"
   ]
  },
  {
   "cell_type": "code",
   "execution_count": null,
   "metadata": {
    "scrolled": false
   },
   "outputs": [],
   "source": [
    "while condition:\n",
    "    # Code to be executed"
   ]
  },
  {
   "cell_type": "markdown",
   "metadata": {},
   "source": [
    "An example of while loop to determine if the inputted password is correct:"
   ]
  },
  {
   "cell_type": "code",
   "execution_count": null,
   "metadata": {},
   "outputs": [],
   "source": [
    "passwords = {\n",
    "    \"kkkeii\": \"123456\",\n",
    "    \"666woda\": \"@wyh1\"\n",
    "}\n",
    "\n",
    "ID = input(\"Enter your ID: \")\n",
    "\n",
    "password = passwords[ID]\n",
    "tmp_password = \"\"\n",
    "\n",
    "while tmp_password != password:\n",
    "    tmp_password = input(\"Enter your password: \")\n",
    "\n",
    "print(\"Access granted!\")"
   ]
  },
  {
   "cell_type": "markdown",
   "metadata": {},
   "source": [
    "__Exercise: write a program for users to create new accounts and store it in a dictionary.__"
   ]
  },
  {
   "cell_type": "code",
   "execution_count": null,
   "metadata": {},
   "outputs": [],
   "source": [
    "passwords_dict = {}\n",
    "\n",
    "ID = input(\"Please create an account name:\")\n",
    "password = input(\"Please create a password:\")\n",
    "\n",
    "tmp_password = \"\"\n",
    "\n",
    "while tmp_password != password:\n",
    "    tmp_password = input(\"Please input the password again:\")\n",
    "\n",
    "passwords_dict[ID] = password\n",
    "\n",
    "print(\"You have succesfully create an account!\")"
   ]
  },
  {
   "cell_type": "markdown",
   "metadata": {},
   "source": [
    "__Infinite while loop__\n",
    "\n",
    "An infinite while loop is a loop that never terminates because the loop is always true. This can happen if the loop condition is not specified correctly or if the loop condition is not updated inside the loop.\n",
    "\n",
    "Here's an example of an infinite loop:"
   ]
  },
  {
   "cell_type": "code",
   "execution_count": null,
   "metadata": {
    "scrolled": true
   },
   "outputs": [],
   "source": [
    "i = 1\n",
    "\n",
    "while i > 0:\n",
    "    print(i)"
   ]
  },
  {
   "cell_type": "markdown",
   "metadata": {},
   "source": [
    "To terminate an infinite loop, you can click the `solid square` button next to the `Run` button.\n",
    "\n",
    "It is important to avoid infinite loops in our code because they can cause our program to crash or hang. To avoid infinite loops, make sure that the loop condition is specified correctly and that the loop condition is updated inside the loop. "
   ]
  },
  {
   "cell_type": "markdown",
   "metadata": {},
   "source": [
    "### Continue statement \n",
    "\n",
    "In Python, the `continue` statement is used inside loops to skip the current iteration and move on to the next iteration. When a `continue` statement is encountered inside a loop, the remaining code in the current iteration is skipped, and the loop immediately starts the next iteration. \n",
    "\n",
    "Here's an example of using the `continue` statement in a for loop to skip the even numbers and only print the odd numbers:"
   ]
  },
  {
   "cell_type": "code",
   "execution_count": 21,
   "metadata": {},
   "outputs": [
    {
     "name": "stdout",
     "output_type": "stream",
     "text": [
      "1\n",
      "3\n",
      "5\n",
      "7\n",
      "9\n"
     ]
    }
   ],
   "source": [
    "numbers = [1, 2, 3, 4, 5, 6, 7, 8, 9, 10]\n",
    "\n",
    "for number in numbers:\n",
    "    if number % 2 == 0:\n",
    "        continue\n",
    "    print(number)"
   ]
  },
  {
   "cell_type": "markdown",
   "metadata": {},
   "source": [
    "### Break statement \n",
    "\n",
    "The `break` statement is used inside loops to terminate the loop early. When a `break` statement is encountered inside a loop, the loop immediately terminates, and the program continues with the code after the loop. \n",
    "\n",
    "Here's an example of using the `break` statement in a `for` loop:"
   ]
  },
  {
   "cell_type": "code",
   "execution_count": null,
   "metadata": {},
   "outputs": [],
   "source": [
    "# find the start codon in a DNA sequence \n",
    "\n",
    "dna_sequence = \"TTAGCTATGACATGTAGGCTAGCTAG\"\n",
    "index = 0\n",
    "\n",
    "while index < len(dna_sequence):\n",
    "    codon = dna_sequence[index:index+3] \n",
    "    if codon == \"ATG\": \n",
    "        print(\"Start codon found at index:\", index)\n",
    "        break\n",
    "    index += 1 \n",
    "else:\n",
    "    print(\"Start codon not found in the given DNA sequence.\")"
   ]
  }
 ],
 "metadata": {
  "kernelspec": {
   "display_name": "Python 3 (ipykernel)",
   "language": "python",
   "name": "python3"
  },
  "language_info": {
   "codemirror_mode": {
    "name": "ipython",
    "version": 3
   },
   "file_extension": ".py",
   "mimetype": "text/x-python",
   "name": "python",
   "nbconvert_exporter": "python",
   "pygments_lexer": "ipython3",
   "version": "3.11.3"
  }
 },
 "nbformat": 4,
 "nbformat_minor": 4
}
