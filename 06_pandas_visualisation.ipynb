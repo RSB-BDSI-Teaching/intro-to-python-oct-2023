{
 "cells": [
  {
   "cell_type": "markdown",
   "id": "29d258c1",
   "metadata": {},
   "source": [
    "# Workshop 6 - Pandas and Data Visualisation \n",
    "\n",
    "### Pandas \n",
    "\n",
    "Pandas is a popular open-source data analysis and manipulation library for Python programming language. It provides data structures like Series and DataFrame, which allow you to manipulate and analyze structured data seamlessly. Pandas is widely used for tasks such as data cleaning, data transformation, data analysis, and data visualization.\n",
    "\n",
    "Pandas provides a wide range of functionalities, including:\n",
    "\n",
    "* Reading and writing data from and to various file formats, such as CSV, Excel, SQL databases, and more.\n",
    "* Data cleaning and preprocessing, including handling missing data and removing duplicates.\n",
    "* Data transformation, such as merging, reshaping, and aggregating datasets.\n",
    "* Data analysis, including statistical analysis and time series analysis.\n",
    "* Data visualization using libraries like Matplotlib and Seaborn."
   ]
  },
  {
   "cell_type": "code",
   "execution_count": null,
   "id": "954ac3ef",
   "metadata": {
    "scrolled": false
   },
   "outputs": [],
   "source": [
    "import numpy as np\n",
    "import pandas as pd \n",
    "import matplotlib.pyplot as plt\n",
    "import seaborn as sns"
   ]
  },
  {
   "cell_type": "markdown",
   "id": "7ecca45f",
   "metadata": {},
   "source": [
    "### Pandas dataframe\n",
    "\n",
    "A two-dimensional data structure that holds data like a two-dimension array or a table with rows and columns.\n",
    "\n",
    "### Read CSV file \n",
    "\n",
    "Please go to the GitHub page to download the data. \n",
    "\n",
    "The Breast Cancer Dataset is from UC Irvine Machine Learning Repository. Features are computed from a digitised image of a fine needle aspirate (FNA) of a breast mass. They describe characteristics of the cell nuclei present in the image. "
   ]
  },
  {
   "cell_type": "code",
   "execution_count": null,
   "id": "add3daeb",
   "metadata": {
    "scrolled": false
   },
   "outputs": [],
   "source": [
    "data = pd.read_csv(\"data.csv\")\n",
    "\n",
    "type(data)"
   ]
  },
  {
   "cell_type": "markdown",
   "id": "3a59b892",
   "metadata": {},
   "source": [
    "### Viewing data\n",
    "\n",
    "Take a look of the dataset:"
   ]
  },
  {
   "cell_type": "code",
   "execution_count": null,
   "id": "7e267bec",
   "metadata": {
    "scrolled": false
   },
   "outputs": [],
   "source": [
    "data.head()"
   ]
  },
  {
   "cell_type": "markdown",
   "id": "db34c273",
   "metadata": {},
   "source": [
    "Similarly, you can use tail:"
   ]
  },
  {
   "cell_type": "code",
   "execution_count": null,
   "id": "3366febb",
   "metadata": {
    "scrolled": false
   },
   "outputs": [],
   "source": [
    "data.tail()"
   ]
  },
  {
   "cell_type": "markdown",
   "id": "4dd5c322",
   "metadata": {},
   "source": [
    "Or you can use this code:"
   ]
  },
  {
   "cell_type": "code",
   "execution_count": null,
   "id": "639fa36d",
   "metadata": {
    "scrolled": false
   },
   "outputs": [],
   "source": [
    "data"
   ]
  },
  {
   "cell_type": "markdown",
   "id": "137027e3",
   "metadata": {},
   "source": [
    "Get all the column names of the dataset:"
   ]
  },
  {
   "cell_type": "code",
   "execution_count": null,
   "id": "1f3cc6f8",
   "metadata": {
    "scrolled": false
   },
   "outputs": [],
   "source": [
    "data.columns"
   ]
  },
  {
   "cell_type": "markdown",
   "id": "ea561290",
   "metadata": {},
   "source": [
    "Get all the row names of the dataset:"
   ]
  },
  {
   "cell_type": "code",
   "execution_count": null,
   "id": "a60a7952",
   "metadata": {
    "scrolled": false
   },
   "outputs": [],
   "source": [
    "data.index"
   ]
  },
  {
   "cell_type": "markdown",
   "id": "9e7fbced",
   "metadata": {},
   "source": [
    "Get the data type of each column:"
   ]
  },
  {
   "cell_type": "code",
   "execution_count": null,
   "id": "76e0fa12",
   "metadata": {
    "scrolled": false
   },
   "outputs": [],
   "source": [
    "data.dtypes"
   ]
  },
  {
   "cell_type": "markdown",
   "id": "dd5c96f3",
   "metadata": {},
   "source": [
    "Get the statistic summary of your dataset:"
   ]
  },
  {
   "cell_type": "code",
   "execution_count": null,
   "id": "d0d62cd9",
   "metadata": {
    "scrolled": false
   },
   "outputs": [],
   "source": [
    "data.describe()"
   ]
  },
  {
   "cell_type": "markdown",
   "id": "8bc1c111",
   "metadata": {},
   "source": [
    "Check the count of your data, it doesn't count missing values:"
   ]
  },
  {
   "cell_type": "code",
   "execution_count": null,
   "id": "b852c138",
   "metadata": {
    "scrolled": false
   },
   "outputs": [],
   "source": [
    "data.count()"
   ]
  },
  {
   "cell_type": "markdown",
   "id": "392d8506",
   "metadata": {},
   "source": [
    "Transposing your data:"
   ]
  },
  {
   "cell_type": "code",
   "execution_count": null,
   "id": "d5891037",
   "metadata": {
    "scrolled": false
   },
   "outputs": [],
   "source": [
    "data.T"
   ]
  },
  {
   "cell_type": "markdown",
   "id": "e1d48d7d",
   "metadata": {},
   "source": [
    "Sort your dataset by values:"
   ]
  },
  {
   "cell_type": "code",
   "execution_count": null,
   "id": "ff0e9a54",
   "metadata": {
    "scrolled": false
   },
   "outputs": [],
   "source": [
    "data.sort_values(by=\"id\")"
   ]
  },
  {
   "cell_type": "markdown",
   "id": "872d9c9c",
   "metadata": {},
   "source": [
    "### Data selection `[]`\n",
    "\n",
    "For a `DataFrame`, passing a single label selects a column."
   ]
  },
  {
   "cell_type": "code",
   "execution_count": null,
   "id": "416d68aa",
   "metadata": {
    "scrolled": false
   },
   "outputs": [],
   "source": [
    "data[\"id\"]"
   ]
  },
  {
   "cell_type": "markdown",
   "id": "3c606659",
   "metadata": {},
   "source": [
    "Passing a slice `:` selects matching rows:"
   ]
  },
  {
   "cell_type": "code",
   "execution_count": null,
   "id": "a1130026",
   "metadata": {
    "scrolled": false
   },
   "outputs": [],
   "source": [
    "data[0:3]"
   ]
  },
  {
   "cell_type": "markdown",
   "id": "7d091ef1",
   "metadata": {},
   "source": [
    "Selecting multiple columns with all rows:"
   ]
  },
  {
   "cell_type": "code",
   "execution_count": null,
   "id": "ae899739",
   "metadata": {
    "scrolled": true
   },
   "outputs": [],
   "source": [
    "data.loc[:, [\"id\", \"diagnosis\"]]"
   ]
  },
  {
   "cell_type": "markdown",
   "id": "80c83116",
   "metadata": {},
   "source": [
    "Selecting by index:"
   ]
  },
  {
   "cell_type": "code",
   "execution_count": null,
   "id": "2202f82e",
   "metadata": {
    "scrolled": false
   },
   "outputs": [],
   "source": [
    "data.iloc[0:3, 0:3]"
   ]
  },
  {
   "cell_type": "markdown",
   "id": "30b635d1",
   "metadata": {},
   "source": [
    "Selecting non-continuously:"
   ]
  },
  {
   "cell_type": "code",
   "execution_count": null,
   "id": "fcf0f59f",
   "metadata": {
    "scrolled": false
   },
   "outputs": [],
   "source": [
    "data.iloc[[0,2,4], [1,3,5]]"
   ]
  },
  {
   "cell_type": "markdown",
   "id": "a00a7e02",
   "metadata": {},
   "source": [
    "Getting a value explicitly:"
   ]
  },
  {
   "cell_type": "code",
   "execution_count": null,
   "id": "ad1b7033",
   "metadata": {
    "scrolled": false
   },
   "outputs": [],
   "source": [
    "data.iloc[6, 6]"
   ]
  },
  {
   "cell_type": "markdown",
   "id": "9ee5a718",
   "metadata": {},
   "source": [
    "### Selecting with conditions\n",
    "\n",
    "Select rows where `data.diagnosis` is equal to M:"
   ]
  },
  {
   "cell_type": "code",
   "execution_count": null,
   "id": "be2cff3e",
   "metadata": {
    "scrolled": false
   },
   "outputs": [],
   "source": [
    "data[data[\"diagnosis\"] == \"M\"].head()"
   ]
  },
  {
   "cell_type": "code",
   "execution_count": null,
   "id": "b3a35e70",
   "metadata": {
    "scrolled": true
   },
   "outputs": [],
   "source": [
    "data[data[\"radius_mean\"] > 20].head()"
   ]
  },
  {
   "cell_type": "markdown",
   "id": "ebc0aa8c",
   "metadata": {},
   "source": [
    "### Missing data\n",
    "\n",
    "To check if your data has missing values:"
   ]
  },
  {
   "cell_type": "code",
   "execution_count": null,
   "id": "43f17fdb",
   "metadata": {
    "scrolled": true
   },
   "outputs": [],
   "source": [
    "data.isna()"
   ]
  },
  {
   "cell_type": "code",
   "execution_count": null,
   "id": "a56f6156",
   "metadata": {
    "scrolled": true
   },
   "outputs": [],
   "source": [
    "data_dropped = data.drop([\"Unnamed: 32\", \"id\"], axis=1)\n",
    "\n",
    "# by specifying axis=1, it means we want to drop columns\n",
    "# if axis=0, it means we want to drop rows\n",
    "\n",
    "data_dropped.head()"
   ]
  },
  {
   "cell_type": "markdown",
   "id": "5e0d4883",
   "metadata": {},
   "source": [
    "### Feature selection and visualisation\n",
    "\n",
    "Take a look of our diagnosis count:"
   ]
  },
  {
   "cell_type": "code",
   "execution_count": null,
   "id": "9e9d0ed3",
   "metadata": {
    "scrolled": false
   },
   "outputs": [],
   "source": [
    "ax = sns.countplot(data, x=\"diagnosis\")\n",
    "B,M = data.diagnosis.value_counts()\n",
    "print(\"Number of Malignant:\", M)\n",
    "print(\"Number of Benign:\", B)"
   ]
  },
  {
   "cell_type": "markdown",
   "id": "993df370",
   "metadata": {},
   "source": [
    "### Violin plot \n",
    "\n",
    "Before making the violin plot, we need to normalise the data. "
   ]
  },
  {
   "cell_type": "code",
   "execution_count": null,
   "id": "90da382d",
   "metadata": {
    "scrolled": true
   },
   "outputs": [],
   "source": [
    "data_dropped_norm = (data_dropped - data_dropped.mean()) / (data_dropped.std())\n",
    "data_dropped_norm.head()"
   ]
  },
  {
   "cell_type": "markdown",
   "id": "d50f823b",
   "metadata": {},
   "source": [
    "__Exercise: solve the error (hint: delete the column \"diagnosis\", and add it back later using `pd.concat`)__"
   ]
  },
  {
   "cell_type": "code",
   "execution_count": null,
   "id": "e9d327da",
   "metadata": {
    "scrolled": true
   },
   "outputs": [],
   "source": []
  },
  {
   "cell_type": "markdown",
   "id": "87bd4fe1",
   "metadata": {},
   "source": [
    "Unpivot the dataframe from wide to long format, so we can use it for plotting. Please see this [page](https://pandas.pydata.org/docs/reference/api/pandas.melt.html) to learn more about `pandas.melt`."
   ]
  },
  {
   "cell_type": "code",
   "execution_count": null,
   "id": "775fbc13",
   "metadata": {
    "scrolled": true
   },
   "outputs": [],
   "source": [
    "data_norm_melt = pd.melt(data_norm,\n",
    "                         id_vars=\"diagnosis\",\n",
    "                         var_name=\"features\",\n",
    "                         value_name=\"value\")\n",
    "data_norm_melt"
   ]
  },
  {
   "cell_type": "markdown",
   "id": "11371de1",
   "metadata": {},
   "source": [
    "Make the violin plot for 30 features:"
   ]
  },
  {
   "cell_type": "code",
   "execution_count": null,
   "id": "92bad603",
   "metadata": {
    "scrolled": false
   },
   "outputs": [],
   "source": [
    "plt.figure(figsize=(12,8), dpi=300)\n",
    "sns.violinplot(data=data_norm_melt, x=\"features\", y=\"value\", hue=\"diagnosis\", split=True, inner=\"quart\")\n",
    "plt.xticks(rotation=90)"
   ]
  },
  {
   "cell_type": "markdown",
   "id": "478989b7",
   "metadata": {},
   "source": [
    "### Boxplot\n",
    "\n",
    "As an alternative of violin plot, box plot can be used. Box plots are also useful in terms of seeing outliers. "
   ]
  },
  {
   "cell_type": "code",
   "execution_count": null,
   "id": "64b4a600",
   "metadata": {},
   "outputs": [],
   "source": [
    "plt.figure(figsize=(12,8), dpi=300)\n",
    "\n",
    "# flierprops = dict(markerfacecolor='black', markersize=5, linestyle='none', marker='o')\n",
    "\n",
    "sns.boxplot(data=data_norm_melt, x=\"features\", y=\"value\", hue=\"diagnosis\", linewidth=1.0)\n",
    "plt.xticks(rotation=90)"
   ]
  },
  {
   "cell_type": "markdown",
   "id": "b8ba14bf",
   "metadata": {},
   "source": [
    "### Correlations\n",
    "\n",
    "Not always true but, if two features are correlated with each other we can drop one of them. Let's check the correlation between __compactness_worst__ and __concavity_worst__."
   ]
  },
  {
   "cell_type": "code",
   "execution_count": null,
   "id": "d2ff8ebc",
   "metadata": {
    "scrolled": false
   },
   "outputs": [],
   "source": [
    "sns.jointplot(data=data, x=\"compactness_worst\", y=\"concavity_worst\", kind='reg')"
   ]
  },
  {
   "cell_type": "markdown",
   "id": "07d2a6a7",
   "metadata": {},
   "source": [
    "### Heat map \n",
    "\n",
    "Heat map allows us to view correlations bwtween all features."
   ]
  },
  {
   "cell_type": "code",
   "execution_count": null,
   "id": "ddac57a5",
   "metadata": {
    "scrolled": false
   },
   "outputs": [],
   "source": [
    "plt.figure(figsize=(18,18), dpi=300)\n",
    "sns.heatmap(data_dropped.corr(), annot=True, linewidth=0.5, fmt='.1f', cmap=\"crest\")"
   ]
  },
  {
   "cell_type": "markdown",
   "id": "4965f7b3",
   "metadata": {},
   "source": [
    "### Drop features\n",
    "\n",
    "We can drop some highly correlated features based on the heat map.\n",
    "\n",
    "__radius_mean__ highly correlates with __perimeter_mean__, __area_mean__, __concave points_mean__, __radius_worst__, __perimeter_worst__, and __area_worst__. So drop all of them."
   ]
  },
  {
   "cell_type": "code",
   "execution_count": null,
   "id": "d424109f",
   "metadata": {
    "scrolled": true
   },
   "outputs": [],
   "source": [
    "drop_list = [\"perimeter_mean\", \"area_mean\", \"concave points_mean\", \"radius_worst\", \"perimeter_worst\", \"area_worst\"]\n",
    "data_feature_dropped = data_dropped.drop(drop_list, axis=1)\n",
    "data_feature_dropped"
   ]
  },
  {
   "cell_type": "markdown",
   "id": "950b92ce",
   "metadata": {},
   "source": [
    "Then, we can plot the heat map again:"
   ]
  },
  {
   "cell_type": "code",
   "execution_count": null,
   "id": "4fa63235",
   "metadata": {},
   "outputs": [],
   "source": [
    "plt.figure(figsize=(18,18), dpi=300)\n",
    "sns.heatmap(data_feature_dropped.corr(), annot=True, linewidth=0.5, fmt='.1f', cmap=\"crest\")"
   ]
  },
  {
   "cell_type": "markdown",
   "id": "fcc0b40c",
   "metadata": {},
   "source": [
    "__Exercise: there are more features are correlated with each other, please drop them.__"
   ]
  },
  {
   "cell_type": "code",
   "execution_count": null,
   "id": "7db791c3",
   "metadata": {},
   "outputs": [],
   "source": []
  },
  {
   "cell_type": "markdown",
   "id": "889b2704",
   "metadata": {},
   "source": [
    "# References \n",
    "\n",
    "* Kaggle - [Breast Cancer Wisconsin (Diagnostic) Data Set](https://www.kaggle.com/datasets/uciml/breast-cancer-wisconsin-data/)\n",
    "* Kaggle DATAI - [Feature Selection and Data Visualisation](https://www.kaggle.com/code/kanncaa1/feature-selection-and-data-visualization)\n",
    "* pandas - [10 minutes to pandas](https://pandas.pydata.org/docs/user_guide/10min.html)\n",
    "* seaborn [documentation](https://seaborn.pydata.org/tutorial.html) \n",
    "* pandas - [documentation](https://pandas.pydata.org/docs/) \n",
    "* [ChatGPT](https://chat.openai.com/)"
   ]
  },
  {
   "cell_type": "code",
   "execution_count": null,
   "id": "bd7af242",
   "metadata": {},
   "outputs": [],
   "source": []
  }
 ],
 "metadata": {
  "kernelspec": {
   "display_name": "Python 3 (ipykernel)",
   "language": "python",
   "name": "python3"
  },
  "language_info": {
   "codemirror_mode": {
    "name": "ipython",
    "version": 3
   },
   "file_extension": ".py",
   "mimetype": "text/x-python",
   "name": "python",
   "nbconvert_exporter": "python",
   "pygments_lexer": "ipython3",
   "version": "3.11.5"
  }
 },
 "nbformat": 4,
 "nbformat_minor": 5
}
