{
 "cells": [
  {
   "cell_type": "markdown",
   "metadata": {},
   "source": [
    "# Workshop 4 - Handling DNA Sequences and Plotting \n",
    "\n",
    "### Topics\n",
    "\n",
    "* About the Data \n",
    "    * Coding Sequences \n",
    "    * FASTA file \n",
    "* Conda Package Manager\n",
    "    * Conda channels\n",
    "    * Conda environments \n",
    "    * Bioconda \n",
    "* Introduction to Biopython\n",
    "    * Biopython\n",
    "    * The Seq class\n",
    "    * The SeqRecord class \n",
    "    * Load sequence data from file\n",
    "    * Calculate isoelectric points\n",
    "* Plotting with Matplotlib and Seaborn \n",
    "    * Parts of a figure\n",
    "    * Histogram\n",
    "    * Scatter plot\n",
    "    * Density plot "
   ]
  },
  {
   "cell_type": "markdown",
   "metadata": {},
   "source": [
    "## About the Data \n",
    "\n",
    "The data we are going to use is from the published genome of _Arabidopsis thaliana_ from [The Arabidopsis Information Resources](https://www.arabidopsis.org/) (TAIR). _Arabidopsis thaliana_ is a popular model organism in plant biology and genetics. For a complex multicellular eukaryote, _A. thaliana_ has a relatively small genome of around 135 megabase pairs. \n",
    "\n",
    "![arabidopsis](figures/Arabidopsis_thaliana.jpg)\n",
    "\n",
    "The data file contains all the coding sequences of Arabidopsis. The __coding sequence__ (CDS) is the portion of a gene's DNA or RNA that codes for protein. \n",
    "\n",
    "### FASTA File \n",
    "\n",
    "The data we have downloaded is in FASTA file format. A FASTA file is a text file format used for representing nucleotide or protein sequences. It is named after the FASTA software package that was one of the first tools for aligning and comparing DNA sequences. \n",
    "\n",
    "A typical FASTA file consists of one or more sequences, each preceded by a header line that begins with a `>` character. The header line contains a description of the sequence, which can include the sequence name, gene name, organism, and other relevant information. \n",
    "\n",
    "Below is the first sequence in our example data:"
   ]
  },
  {
   "cell_type": "code",
   "execution_count": null,
   "metadata": {},
   "outputs": [],
   "source": [
    ">AT1G01010.1 | Symbols: NAC001, NTL10, ANAC001 | NAC domain containing protein 1 | chr1:3760-5630 FORWARD LENGTH=1290\n",
    "ATGGAGGATCAAGTTGGGTTTGGGTTCCGTCCGAACGACGAGGAGCTCGTTGGTCACTATCTCCGTAACAAAATCGAAGG\n",
    "AAACACTAGCCGCGACGTTGAAGTAGCCATCAGCGAGGTCAACATCTGTAGCTACGATCCTTGGAACTTGCGCTTCCAGT\n",
    "CAAAGTACAAATCGAGAGATGCTATGTGGTACTTCTTCTCTCGTAGAGAAAACAACAAAGGGAATCGACAGAGCAGGACA\n",
    "ACGGTTTCTGGTAAATGGAAGCTTACCGGAGAATCTGTTGAGGTCAAGGACCAGTGGGGATTTTGTAGTGAGGGCTTTCG\n",
    "TGGTAAGATTGGTCATAAAAGGGTTTTGGTGTTCCTCGATGGAAGATACCCTGACAAAACCAAATCTGATTGGGTTATCC\n",
    "ACGAGTTCCACTACGACCTCTTACCAGAACATCAGAGGACATATGTCATCTGCAGACTTGAGTACAAGGGTGATGATGCG\n",
    "GACATTCTATCTGCTTATGCAATAGATCCCACTCCCGCTTTTGTCCCCAATATGACTAGTAGTGCAGGTTCTGTGGTCAA\n",
    "CCAATCACGTCAACGAAATTCAGGATCTTACAACACTTACTCTGAGTATGATTCAGCAAATCATGGCCAGCAGTTTAATG\n",
    "AAAACTCTAACATTATGCAGCAGCAACCACTTCAAGGATCATTCAACCCTCTCCTTGAGTATGATTTTGCAAATCACGGC\n",
    "GGTCAGTGGCTGAGTGACTATATCGACCTGCAACAGCAAGTTCCTTACTTGGCACCTTATGAAAATGAGTCGGAGATGAT\n",
    "TTGGAAGCATGTGATTGAAGAAAATTTTGAGTTTTTGGTAGATGAAAGGACATCTATGCAACAGCATTACAGTGATCACC\n",
    "GGCCCAAAAAACCTGTGTCTGGGGTTTTGCCTGATGATAGCAGTGATACTGAAACTGGATCAATGATTTTCGAAGACACT\n",
    "TCGAGCTCCACTGATAGTGTTGGTAGTTCAGATGAACCGGGCCATACTCGTATAGATGATATTCCATCATTGAACATTAT\n",
    "TGAGCCTTTGCACAATTATAAGGCACAAGAGCAACCAAAGCAGCAGAGCAAAGAAAAGGTGATAAGTTCGCAGAAAAGCG\n",
    "AATGCGAGTGGAAAATGGCTGAAGACTCGATCAAGATACCTCCATCCACCAACACGGTGAAGCAGAGCTGGATTGTTTTG\n",
    "GAGAATGCACAGTGGAACTATCTCAAGAACATGATCATTGGTGTCTTGTTGTTCATCTCCGTCATTAGTTGGATCATTCT\n",
    "TGTTGGTTAA"
   ]
  },
  {
   "cell_type": "markdown",
   "metadata": {},
   "source": [
    "The sequence itself follows the header line and consists of a series of letters representing the nucleotide or amino acids that make up the sequence. The letters can be in upper or lowercase and may include spaces, dashes, or other characters to represent gaps or other features of the sequence. \n",
    "\n",
    "FASTA files are widely used in bioinformatics for storing and sharing sequence data, and are compatible with many different software tools and databases."
   ]
  },
  {
   "cell_type": "markdown",
   "metadata": {},
   "source": [
    "## Conda Package Manager\n",
    "\n",
    "Remember before the workshops when we set up computer for the course, we added a channel called Bioconda and installed Biopython through it. Now, we are going to talk about what is conda, conda channels, and conda environments.  \n",
    "\n",
    "Conda is an open-source package management system and environment management system that runs on Windows, macOS, and Linux. It quickly installs, runs, and updates packages and their dependencies. Conda allows users to easily manage different versions of software packages, libraries, and environments, making it particularly useful for data science, scientific computing, and machine learning tasks.\n",
    "\n",
    "### Conda Channels\n",
    "\n",
    "A Conda channel is a repository where Conda packages are stored and made available for distribution. These packages can include software libraries, tools, and other resources that can be easily installed and managed using the Conda package manager.\n",
    "\n",
    "When you use Conda to install a package or create an environment, Conda looks for packages in specific channels. The default channel is the Anaconda repository, which is maintained by Anaconda, Inc. It contains a wide variety of pre-built packages for different platforms and architectures.\n",
    "\n",
    "However, not all packages are available in the default channel. That's where additional channels come into play.\n",
    "\n",
    "### Conda Environments \n",
    "\n",
    "A Conda environment is an isolated environment that contains a specific collection of Conda packages. Environments are used to manage different versions of software libraries and tools, ensuring that they do not interfere with each other. Creating and using environments is a best practice in software development and data science because it helps avoid conflicts between different packages and their dependencies.\n",
    "\n",
    "### Bioconda \n",
    "\n",
    "Bioconda is a specialized Conda channel that focuses on providing bioinformatics software packages. It is a community-driven project that curates and distributes bioinformatics software tools and libraries through Conda packages. Bioconda aims to make it easier for researchers and bioinformaticians to access, install, and manage a wide range of bioinformatics software."
   ]
  },
  {
   "cell_type": "markdown",
   "metadata": {},
   "source": [
    "## Introduction to [Biopython](https://biopython.org/)\n",
    "\n",
    "### Biopython\n",
    "\n",
    "Biopython is a Python library that provides tools and modules for working with biological data, such as DNA, RNA, and protein sequences. It allows researchers to perform a wide range of tasks, such as sequence alignment, data parsing and conversion, statistical analysis, and more. Biopython is widely used in many areas of biological research, including genomics, proteomics, bioinformatics, and computational biology.\n",
    "\n",
    "### The `Seq` class\n",
    "\n",
    "In Biopython, sequences are usually held as `Seq` objects, which add various biological methods on top of string like behaviour. To create a `Seq` object, we can use the `Seq()` function from the Seq module of package Biopython."
   ]
  },
  {
   "cell_type": "code",
   "execution_count": null,
   "metadata": {},
   "outputs": [],
   "source": [
    "from Bio.Seq import Seq\n",
    "\n",
    "DNAseq = Seq(\"atgtataacattggccataccccgtatacccatgcgaaccatattggccattaa\")\n",
    "DNAseq "
   ]
  },
  {
   "cell_type": "markdown",
   "metadata": {},
   "source": [
    "To get the actual sequence rather than the `Seq` object, we can simply print the object:"
   ]
  },
  {
   "cell_type": "code",
   "execution_count": null,
   "metadata": {},
   "outputs": [],
   "source": [
    "print(DNAseq)"
   ]
  },
  {
   "cell_type": "code",
   "execution_count": null,
   "metadata": {
    "scrolled": true
   },
   "outputs": [],
   "source": [
    "# Check the attributes and methods of object DNAseq \n",
    "dir(DNAseq)"
   ]
  },
  {
   "cell_type": "markdown",
   "metadata": {},
   "source": [
    "From the above result we can see that there are a few methods we've programmed before, such as translate, transcribe, and complement. Now, let's try use these methods of the `Seq` object."
   ]
  },
  {
   "cell_type": "code",
   "execution_count": null,
   "metadata": {},
   "outputs": [],
   "source": [
    "# Find the start codon\n",
    "DNAseq.find(\"atg\")"
   ]
  },
  {
   "cell_type": "code",
   "execution_count": null,
   "metadata": {},
   "outputs": [],
   "source": [
    "# Count the number of a specific nucleotide in the sequence \n",
    "DNAseq.count(\"a\")"
   ]
  },
  {
   "cell_type": "code",
   "execution_count": null,
   "metadata": {},
   "outputs": [],
   "source": [
    "# Count the number of a specific sequence, the count is non-overlapping \n",
    "DNAseq.count(\"aa\")"
   ]
  },
  {
   "cell_type": "code",
   "execution_count": null,
   "metadata": {},
   "outputs": [],
   "source": [
    "# Complement \n",
    "DNAseq.complement()"
   ]
  },
  {
   "cell_type": "code",
   "execution_count": null,
   "metadata": {},
   "outputs": [],
   "source": [
    "# Reverse complement \n",
    "DNAseq.reverse_complement()"
   ]
  },
  {
   "cell_type": "markdown",
   "metadata": {},
   "source": [
    "__Exercises:__\n",
    "\n",
    "1. Build a `Seq` object for sequence `AGGTCTGGTATGTTTCCGTTTCCAGTGACACACTG` and name it `seq_1`, and find the start codon of sequence.\n",
    "2. Find the numbers of the other 3 nucleotides.\n",
    "3. Count the number of \"cc\" and \"tt\" in `DNAseq`.\n",
    "4. Reverse complement the Seq object `seq_1`.\n",
    "5. Translate `DNAseq` and `seq_1`."
   ]
  },
  {
   "cell_type": "code",
   "execution_count": null,
   "metadata": {},
   "outputs": [],
   "source": []
  },
  {
   "cell_type": "markdown",
   "metadata": {},
   "source": [
    "### The `SeqRecord` class:\n",
    "\n",
    "`SeqRecord` can store a sequence with its identifiers (ID and name), description, optionally annotation, and sub-features. One `SeqRecord` object can store one sequence and its related information. To create a `SeqRecord` object, we can use the `SeqRecord` function from the SeqRecord module of the Biopython package. For example:"
   ]
  },
  {
   "cell_type": "code",
   "execution_count": null,
   "metadata": {},
   "outputs": [],
   "source": [
    "from Bio.Seq import Seq\n",
    "from Bio.SeqRecord import SeqRecord\n",
    "\n",
    "record = SeqRecord(\n",
    "    Seq(\"MKQHKAMIVALIVICITAVVAALVTRKDLCEVHIRTGQTEVAVF\"),\n",
    "    id=\"YP_025292.1\",\n",
    "    name=\"HokC\",\n",
    "    description=\"toxic membrane protein, small\",\n",
    ")\n",
    "\n",
    "print(record)"
   ]
  },
  {
   "cell_type": "markdown",
   "metadata": {},
   "source": [
    "__Exercise: get the sequence, id, and name from the SeqRecord object `record`.__"
   ]
  },
  {
   "cell_type": "code",
   "execution_count": null,
   "metadata": {},
   "outputs": [],
   "source": []
  },
  {
   "cell_type": "markdown",
   "metadata": {},
   "source": [
    "### Load sequence data from file using `SeqIO.parse()`\n",
    "\n",
    "Here we need to use the function `parse()` from the SeqIO module of Biopython, it can read many file formats such as FASTA, FastQ, and GenBank etc. "
   ]
  },
  {
   "cell_type": "code",
   "execution_count": null,
   "metadata": {},
   "outputs": [],
   "source": [
    "from Bio import SeqIO"
   ]
  },
  {
   "cell_type": "markdown",
   "metadata": {},
   "source": [
    "`SeqIO.parse()` function can turn a sequence file into an iterator returning SeqRecords. To load a sequence data file, we can simply write a for loop with `SeqIO.parse(\"filename\", \"file_format\")`, for example:"
   ]
  },
  {
   "cell_type": "code",
   "execution_count": null,
   "metadata": {},
   "outputs": [],
   "source": [
    "filename = \"data/Araport11_cds_20220914.fa\"\n",
    "arabidopsis_cds = []\n",
    "\n",
    "for seq in SeqIO.parse(filename, 'fasta'):\n",
    "    arabidopsis_cds.append(seq)"
   ]
  },
  {
   "cell_type": "markdown",
   "metadata": {},
   "source": [
    "In each iteration, `SeqIO.parse()` converts a sequence in FASTA file into a `SeqRecord` object, and then we use `append()` to add the `SeqRecord` object into our list. The order of the sequence will be returned the same as in the file. We can also don't store the SeqRecord objects in a list and only keep the information we need. Let's print out the first item in the list `arabidopsis_cds` to see what does it look like:"
   ]
  },
  {
   "cell_type": "code",
   "execution_count": null,
   "metadata": {},
   "outputs": [],
   "source": [
    "print(arabidopsis_cds[0])"
   ]
  },
  {
   "cell_type": "markdown",
   "metadata": {},
   "source": [
    "It is a SeqRecord object, and it should be the first sequence in the FASTA file as well. Now, let's check how many CDS we have:"
   ]
  },
  {
   "cell_type": "code",
   "execution_count": null,
   "metadata": {},
   "outputs": [],
   "source": [
    "len(arabidopsis_cds)"
   ]
  },
  {
   "cell_type": "markdown",
   "metadata": {},
   "source": [
    "So, the CDS file contains 48,266 sequences.\n",
    "\n",
    "Let's try to access the information stored in the `SeqRecord` objects. What's the DNA sequence and length of the second CDS?"
   ]
  },
  {
   "cell_type": "code",
   "execution_count": null,
   "metadata": {},
   "outputs": [],
   "source": [
    "print(arabidopsis_cds[1].seq)"
   ]
  },
  {
   "cell_type": "code",
   "execution_count": null,
   "metadata": {},
   "outputs": [],
   "source": [
    "print(\"The length of the second CDS is\", len(arabidopsis_cds[1].seq))"
   ]
  },
  {
   "cell_type": "markdown",
   "metadata": {},
   "source": [
    "__Exercise: build a dictionary of all the CDS IDs and its length__"
   ]
  },
  {
   "cell_type": "code",
   "execution_count": null,
   "metadata": {},
   "outputs": [],
   "source": []
  },
  {
   "cell_type": "markdown",
   "metadata": {},
   "source": [
    "Before we go to the next step, we need to learn the __methods of dictionary__. We have learned dictionary previously but we didn't mention the methods of dictionary. There are 3 very useful methods which return objects of all the keys, values, and key-value pairs of a dictionary."
   ]
  },
  {
   "cell_type": "code",
   "execution_count": null,
   "metadata": {},
   "outputs": [],
   "source": [
    "# return an object of all the keys \n",
    "cds_id_length.keys()"
   ]
  },
  {
   "cell_type": "code",
   "execution_count": null,
   "metadata": {},
   "outputs": [],
   "source": [
    "# return an object of all the values\n",
    "cds_length_dict.values()"
   ]
  },
  {
   "cell_type": "code",
   "execution_count": null,
   "metadata": {},
   "outputs": [],
   "source": [
    "# return an object of all the key-value pairs \n",
    "cds_id_length.items()"
   ]
  },
  {
   "cell_type": "markdown",
   "metadata": {},
   "source": [
    "We can use it with for loop to loop through dictionaries."
   ]
  },
  {
   "cell_type": "code",
   "execution_count": null,
   "metadata": {},
   "outputs": [],
   "source": [
    "for i in cds_id_length.keys():\n",
    "    print(i, cds_id_length[i])"
   ]
  },
  {
   "cell_type": "code",
   "execution_count": null,
   "metadata": {},
   "outputs": [],
   "source": [
    "for k,v in cds_id_length.items():\n",
    "    print(k,v)"
   ]
  },
  {
   "cell_type": "markdown",
   "metadata": {},
   "source": [
    "__Exercise: find the longest CDS and print out its ID and length.__"
   ]
  },
  {
   "cell_type": "code",
   "execution_count": null,
   "metadata": {},
   "outputs": [],
   "source": []
  },
  {
   "cell_type": "markdown",
   "metadata": {},
   "source": [
    "__Exercise: translate all the CDS to protein sequences and store it in a list.__"
   ]
  },
  {
   "cell_type": "code",
   "execution_count": null,
   "metadata": {},
   "outputs": [],
   "source": []
  },
  {
   "cell_type": "markdown",
   "metadata": {},
   "source": [
    "### Calculating the isoelectric points of proteins\n",
    "\n",
    "The isoelectric point (pI), is the pH at which a molecule carries no net eletrical charge or is eletrically neutral in the statistical mean. \n",
    "\n",
    "The `Bio.SeqUtils.IsoelectricPoint` module can be used to calculate isoelectric points of polypeptides. First, we need to use the protein sequences to build `IsoelectricPoint` objects. \n",
    "\n",
    "__Exercise: please read the documentation [here](https://biopython.org/docs/latest/api/Bio.SeqUtils.IsoelectricPoint.html) and build a list that contains `IsoelectricPoint` objects of our proteins, then calculate its pI and store in another list (the ability to read Python documentation is very important, it allows you to learn any new Python packages).__"
   ]
  },
  {
   "cell_type": "code",
   "execution_count": null,
   "metadata": {},
   "outputs": [],
   "source": []
  },
  {
   "cell_type": "markdown",
   "metadata": {},
   "source": [
    "## Plotting with [Matplotlib](https://matplotlib.org/) and [Seaborn](https://seaborn.pydata.org/)\n",
    "\n",
    "Matplotlib is a popular data visualisation library in Python. It provides a wide range of functions and classes for creating various types of plots, charts, and graphs. Matplotlib is widely used in scientific computing, data analysis, and other fields to visualise data and communicate insights effectively. \n",
    "\n",
    "Seaborn is a Python data visualisation library that is built on top of Matplotlib. It provides a high-level interface for creating attractive and informative statistical graphics. Seaborn is designed to work seamlessly with `pandas` data structures and integrates well with the scientific computing ecosystem in Python. \n",
    "\n",
    "### Import Matplotlib and Seaborn "
   ]
  },
  {
   "cell_type": "code",
   "execution_count": null,
   "metadata": {},
   "outputs": [],
   "source": [
    "import matplotlib.pyplot as plt \n",
    "import seaborn as sns "
   ]
  },
  {
   "cell_type": "markdown",
   "metadata": {},
   "source": [
    "For the commonly used libraries, there are standard ways to name the module you imported. You will see almost everyone `import matplotlib.pyplot as plt` and `import seaborn as sns`. It is because by doing this, the code you share with other people can be easily read and understand. It is better for us to do so as well to create a good community environment. Usually the standard way to name the imported module can be found in the documentation. \n",
    "\n",
    "### Parts of a figure \n",
    "\n",
    "Here are the components of a Matplotlib Figure.\n",
    "\n",
    "![matplotlib-figure](figures/anatomy.png)"
   ]
  },
  {
   "cell_type": "markdown",
   "metadata": {},
   "source": [
    "### Histogram\n",
    "\n",
    "Histogram is an easy plot to make, it only takes one set of data in. We can use histogram to look at the distribution of a dataset. But histograms can only represent the distribution of numerical data. It provides a visual summary of the underlying frequency or probability distribution of a dataset and helps to identify patterns and outliers.\n",
    "\n",
    "The x-axis of a histogram represents the range of values in the dataset, divided into equal intervals called bins. The y-axis represents the frequency or count of data points falling within each bin. \n",
    "\n",
    "An example of how to create a histogram using Matplotlib:"
   ]
  },
  {
   "cell_type": "code",
   "execution_count": null,
   "metadata": {},
   "outputs": [],
   "source": [
    "# Sample data\n",
    "data = [1, 3, 3, 4, 5, 5, 5, 6, 6, 6, 6, 7, 8, 9]\n",
    "\n",
    "# Plotting the histogram\n",
    "plt.hist(data, bins=5, edgecolor='black')\n",
    "\n",
    "# Adding labels and title\n",
    "plt.xlabel('Values')\n",
    "plt.ylabel('Frequency')\n",
    "plt.title('Histogram of Data')\n",
    "\n",
    "# Displaying the plot\n",
    "plt.show()"
   ]
  },
  {
   "cell_type": "markdown",
   "metadata": {},
   "source": [
    "__Exercise: make a histogram to look at the distribution of the CDS lengths__"
   ]
  },
  {
   "cell_type": "code",
   "execution_count": null,
   "metadata": {},
   "outputs": [],
   "source": []
  },
  {
   "cell_type": "markdown",
   "metadata": {},
   "source": [
    "__Exercise: make a histogram of the protein lengths__"
   ]
  },
  {
   "cell_type": "code",
   "execution_count": null,
   "metadata": {
    "scrolled": true
   },
   "outputs": [],
   "source": []
  },
  {
   "cell_type": "markdown",
   "metadata": {},
   "source": [
    "### Scatter Plot \n",
    "\n",
    "Scatter plot displays the relationship between two numerical variables. It represents individual data points as dots or markers on a two-dimensional coordinate system. Each dot on the plot represents the values of one data point from the dataset, with the x-coordinate representing the value of one variable and the y-coordinate representing the value of the other variable. \n",
    "\n",
    "Scatter plots are useful for visualising the distribution, pattern, and coorelation between two variables. They can reveal trends, clusters, outliers, or the absence of a relationship between the variables. \n",
    "\n",
    "An example of how to create scatter plots using Matplotlib:"
   ]
  },
  {
   "cell_type": "code",
   "execution_count": null,
   "metadata": {
    "scrolled": false
   },
   "outputs": [],
   "source": [
    "# Sample data\n",
    "x = [1, 2, 3, 4, 5, 6, 7, 8, 9, 10]\n",
    "y = [3, 5, 4, 6, 8, 7, 9, 10, 12, 11]\n",
    "\n",
    "# Plotting the scatter plot\n",
    "plt.scatter(x, y, color='blue', marker='o')\n",
    "\n",
    "# Adding labels and title\n",
    "plt.xlabel('X-axis')\n",
    "plt.ylabel('Y-axis')\n",
    "plt.title('Scatter Plot')\n",
    "\n",
    "# Displaying the plot\n",
    "plt.show()"
   ]
  },
  {
   "cell_type": "markdown",
   "metadata": {},
   "source": [
    "__Exercise: what is the correlation between CDS length and protein length? Show it with scatter plot__"
   ]
  },
  {
   "cell_type": "code",
   "execution_count": null,
   "metadata": {},
   "outputs": [],
   "source": []
  },
  {
   "cell_type": "markdown",
   "metadata": {},
   "source": [
    "### Density Plot \n",
    "\n",
    "A histogram aims to approximate the underlying probability density function that generated the data by binning and counting observations. Kernel density estimation (KDE) presents a different solution to the same problem. Rather than using discrete bins, a KDE plot smoothes the observations with a Gaussian kernel, producing a continuous density estimate. \n",
    "\n",
    "We can use density plot to compare the distributions of two datasets. Below is an example of creating a density plot. "
   ]
  },
  {
   "cell_type": "code",
   "execution_count": null,
   "metadata": {
    "scrolled": false
   },
   "outputs": [],
   "source": [
    "# Sample data\n",
    "data = [1, 2, 3, 3, 4, 5, 5, 5, 6, 6, 6, 6, 7, 8, 9]\n",
    "\n",
    "# Creating the density plot\n",
    "sns.displot(data, kind=\"kde\")\n",
    "\n",
    "# Adding labels and title\n",
    "plt.xlabel('Values')\n",
    "plt.ylabel('Density')\n",
    "plt.title('Density Plot')\n",
    "\n",
    "# Displaying the plot\n",
    "plt.show()"
   ]
  },
  {
   "cell_type": "markdown",
   "metadata": {},
   "source": [
    "Because Seaborn was built on top of Matplotlib, so the functions from Matplotlib can be used together with Seaborn such as adding the lables and titles. \n",
    "\n",
    "__Exercise: create a density plot of the protein lengths__"
   ]
  },
  {
   "cell_type": "code",
   "execution_count": null,
   "metadata": {},
   "outputs": [],
   "source": []
  },
  {
   "cell_type": "markdown",
   "metadata": {},
   "source": [
    "__Exercise: plot the pi distribution of our proteins__"
   ]
  },
  {
   "cell_type": "code",
   "execution_count": null,
   "metadata": {},
   "outputs": [],
   "source": []
  },
  {
   "cell_type": "markdown",
   "metadata": {},
   "source": [
    "__Exercise: look at the relationship between protein lengths and pi values using scatter plot__"
   ]
  },
  {
   "cell_type": "code",
   "execution_count": null,
   "metadata": {},
   "outputs": [],
   "source": []
  },
  {
   "cell_type": "markdown",
   "metadata": {},
   "source": [
    "__Exercise: read this [documentation](https://seaborn.pydata.org/tutorial/distributions.html#tutorial-kde) and compare the distribution of protein lengths and pi values (you may want to build a dataframe with the 2 datasets using Pandas)__"
   ]
  },
  {
   "cell_type": "code",
   "execution_count": null,
   "metadata": {},
   "outputs": [],
   "source": []
  },
  {
   "cell_type": "markdown",
   "metadata": {},
   "source": [
    "# References\n",
    "\n",
    "* Wikipedia - [Isoelectric point](https://en.wikipedia.org/wiki/Isoelectric_point) \n",
    "* Seaborn - [Visualizing distributions of data](https://seaborn.pydata.org/tutorial/distributions.html) \n",
    "* Wikipedia - [Arabidopsis thaliana](https://en.wikipedia.org/wiki/Arabidopsis_thaliana)\n",
    "* Wikipedia - [Coding region](https://en.wikipedia.org/wiki/Coding_region)\n",
    "* OpenAI - [ChatGPT](https://chat.openai.com)"
   ]
  },
  {
   "cell_type": "code",
   "execution_count": null,
   "metadata": {},
   "outputs": [],
   "source": []
  }
 ],
 "metadata": {
  "kernelspec": {
   "display_name": "Python 3 (ipykernel)",
   "language": "python",
   "name": "python3"
  },
  "language_info": {
   "codemirror_mode": {
    "name": "ipython",
    "version": 3
   },
   "file_extension": ".py",
   "mimetype": "text/x-python",
   "name": "python",
   "nbconvert_exporter": "python",
   "pygments_lexer": "ipython3",
   "version": "3.11.5"
  }
 },
 "nbformat": 4,
 "nbformat_minor": 4
}
