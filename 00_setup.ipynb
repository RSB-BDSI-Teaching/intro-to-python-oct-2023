{
 "cells": [
  {
   "cell_type": "markdown",
   "id": "4aa23ce8",
   "metadata": {},
   "source": [
    "## Install Anaconda \n",
    "\n",
    "Please go to this [page](https://www.anaconda.com/download) to download and install Anaconda.\n",
    "\n",
    "For installation options, please tick the same as the below image. \n",
    "\n",
    "![anaconda-install](figures/anaconda-install.png)"
   ]
  },
  {
   "cell_type": "markdown",
   "id": "993d54e6",
   "metadata": {},
   "source": [
    "## Download the Notebooks\n",
    "\n",
    "The notebooks are availale on the GitHub Page https://github.com/RSB-BDSI-Teaching/intro-to-python-oct-2023. \n",
    "\n",
    "Please click this [link](https://github.com/RSB-BDSI-Teaching/intro-to-python-oct-2023/archive/refs/heads/main.zip) to download the zip file of the notebooks we are going to use during this course. "
   ]
  },
  {
   "cell_type": "markdown",
   "id": "5e0a336d",
   "metadata": {},
   "source": [
    "## Download the Data \n",
    "\n",
    "The data we are going to use is the Coding Sequences of *Arabidopsis thaliana*. The data is from [The Arabidopsis Information Resource](https://www.arabidopsis.org/index.jsp) (TAIR).\n",
    "\n",
    "Please click this [link](https://www.arabidopsis.org/download_files/Genes/Araport11_genome_release/Araport11_blastsets/Araport11_cds_20220914.gz) to download the data, unzip it and save it to the same directory where you will store the notebooks. "
   ]
  },
  {
   "cell_type": "markdown",
   "id": "4971ec9e",
   "metadata": {},
   "source": [
    "# Set up conda environment\n",
    "\n",
    "To add a conda channel, please open your Anaconda Navigator and there is a tab for Environments on the left pane. \n",
    "\n",
    "![env-icon](figures/env_icon.png)\n",
    "\n",
    "After you clicked on it, you will see a list of environments you have on your computer. For now, you should only see `base (boot)` on that list because that's the default environment. \n",
    "\n",
    "![env-list](figures/env_list.png)\n",
    "\n",
    "### Create a new environment called `py-workshop`\n",
    "\n",
    "On the bottom, there are 5 icons where you can create, clone, import, backup, and remove environments.\n",
    "\n",
    "![env-create](figures/create_env.png)\n",
    "\n",
    "Please click the create icon and create a new environment called `py-workshop` with Python version 3.11.4 \n",
    "\n",
    "Wait for a few minute for Anaconda to finish setting up the environment. \n",
    "\n",
    "Then you should see you have two environments on your list. \n",
    "\n",
    "### Add the channel Bioconda \n",
    "\n",
    "Click the `py-workshop` environment you just create, and find the `Channels` button. \n",
    "\n",
    "![channels-button](figures/channels_button.png)\n",
    "\n",
    "Click on the channels button and a small window will pop up. \n",
    "\n",
    "![channels-window](figures/channels_window.png)\n",
    "\n",
    "Please click the add button and search for `bioconda`, lowercase. After finishing typing, hit enter to add the channel, and then click `Update channels`.\n",
    "\n",
    "It will need a few minutes to finish set up.\n",
    "\n",
    "### Install the package `Biopython`\n",
    "\n",
    "There is a drop-down menu next to the `Channels` button, now it should show `Installed`, please change it to `Not installed`.\n",
    "\n",
    "![drop-down-menu](figures/dropdown_menu.png)\n",
    "\n",
    "Then on the top-right, you will find a search box, please search `biopython`.\n",
    "\n",
    "![searchbox](figures/search_box.png)\n",
    "\n",
    "There should be two results for `biopython`.\n",
    "\n",
    "![searchresults](figures/biopython_results.png)\n",
    "\n",
    "Please tick the box infront of biopython, and navigate to the bottom-right. You will see two buttons, `Apply` and `Clear`, please click apply.\n",
    "\n",
    "![applyclear](figures/apply_clear.png)\n",
    "\n",
    "You will be poped up with a window telling you that \"10 packages will be installed\", please click `Apply`. \n",
    "\n",
    "![10packages](figures/10_packages.png)\n",
    "\n",
    "It will take some time to finish installing. \n",
    "\n",
    "__Use the same method to install packages `matplotlib` and `seaborn`.__\n",
    "\n",
    "### Install Jupyter Notebook in the `py-workshop` environment\n",
    "\n",
    "Now let's click the `Home` tab on the left pane. \n",
    "\n",
    "![hometab](figures/home_tab.png)\n",
    "\n",
    "There are two drop-down menus on the top-middle part next to the Channels button. Please set them to `All applications` on `py-workshop`. \n",
    "\n",
    "![allappspyworkshop](figures/all_apps_pyworkshop.png)\n",
    "\n",
    "Find Jupyter Notebook on your screen and install it.\n",
    "\n",
    "![installjupyter](figures/install_notebook.png)\n",
    "\n",
    "### Launch Jupyter Notebook\n",
    "\n",
    "Now you are be able to launch Jupyter Notebook from the environment `py-workshop`, you should launch it from this environment every time we use Jupyter Notebook in the workshop. "
   ]
  },
  {
   "cell_type": "code",
   "execution_count": null,
   "id": "33c43d72",
   "metadata": {},
   "outputs": [],
   "source": []
  }
 ],
 "metadata": {
  "kernelspec": {
   "display_name": "Python 3 (ipykernel)",
   "language": "python",
   "name": "python3"
  },
  "language_info": {
   "codemirror_mode": {
    "name": "ipython",
    "version": 3
   },
   "file_extension": ".py",
   "mimetype": "text/x-python",
   "name": "python",
   "nbconvert_exporter": "python",
   "pygments_lexer": "ipython3",
   "version": "3.11.5"
  }
 },
 "nbformat": 4,
 "nbformat_minor": 5
}
