{
 "cells": [
  {
   "cell_type": "markdown",
   "metadata": {},
   "source": [
    "# Workshop 3 - Python Functions, Modules, and Classes \n",
    "\n",
    "### Topics\n",
    "\n",
    "* Python Functions \n",
    "    * Creating a function\n",
    "    * Calling a function \n",
    "    * Arguments \n",
    "    * Return values \n",
    "* Python Modules\n",
    "    * What is a Python module?\n",
    "    * What is a Python library?\n",
    "    * How to use a Python module?\n",
    "* Python Classes and Objects\n",
    "    * Python classes\n",
    "    * Python objects "
   ]
  },
  {
   "cell_type": "markdown",
   "metadata": {},
   "source": [
    "## Python Functions \n",
    "\n",
    "A function is a block of code which only runs when it is called. \n",
    "\n",
    "You can pass data, known as parameters, into a function. \n",
    "\n",
    "A function can return data as a result. \n",
    "\n",
    "### Creating a Function \n",
    "\n",
    "In Python, a function is defined using the `def` keyword:"
   ]
  },
  {
   "cell_type": "code",
   "execution_count": null,
   "metadata": {},
   "outputs": [],
   "source": [
    "def my_function():\n",
    "    print(\"Hello from a function\")"
   ]
  },
  {
   "cell_type": "markdown",
   "metadata": {},
   "source": [
    "### Calling a Function \n",
    "\n",
    "To call a function, use the function name followed by parenthesis:"
   ]
  },
  {
   "cell_type": "code",
   "execution_count": null,
   "metadata": {},
   "outputs": [],
   "source": [
    "def my_function():\n",
    "    print(\"Hello from a function\")\n",
    "\n",
    "my_function()"
   ]
  },
  {
   "cell_type": "markdown",
   "metadata": {},
   "source": [
    "### Arguments \n",
    "\n",
    "Information can be passed into functions as arguments.\n",
    "\n",
    "Arguments are specified after the function name, inside the parentheses. You can add as many arguments as you want, just separate them with a comma. \n",
    "\n",
    "The following example has a function with one argument `fname`. When the function is called, we pass along a first name, which is used inside the function to print a sentence:"
   ]
  },
  {
   "cell_type": "code",
   "execution_count": null,
   "metadata": {
    "scrolled": true
   },
   "outputs": [],
   "source": [
    "def my_function(fname):\n",
    "    print(\"First Name:\", fname)\n",
    "\n",
    "my_function(\"Emil\")\n",
    "my_function(\"Tobias\")\n",
    "my_function(\"Linus\")"
   ]
  },
  {
   "cell_type": "markdown",
   "metadata": {},
   "source": [
    "The following example has a function with two arguments `fname` and `lname`. When the function is called, we pass along a first name and a last name, which is used inside the function to print the full name:"
   ]
  },
  {
   "cell_type": "code",
   "execution_count": null,
   "metadata": {},
   "outputs": [],
   "source": [
    "def my_function(fname, lname):\n",
    "    print(\"Full Name:\", fname, lname)\n",
    "    \n",
    "my_function(\"Jiajia\", \"Li\")"
   ]
  },
  {
   "cell_type": "markdown",
   "metadata": {},
   "source": [
    "### Return Values\n",
    "\n",
    "To let a function return a value, use the `return` statement:"
   ]
  },
  {
   "cell_type": "code",
   "execution_count": null,
   "metadata": {
    "scrolled": true
   },
   "outputs": [],
   "source": [
    "def my_function(x):\n",
    "    return 5 * x\n",
    "\n",
    "print(my_function(3))\n",
    "print(my_function(5))\n",
    "print(my_function(9))"
   ]
  },
  {
   "cell_type": "markdown",
   "metadata": {},
   "source": [
    "__Exercise 01:__\n",
    "\n",
    "Write a function to count the number of each regular base in a DNA sequence.\n",
    "\n",
    "Sequence 1 - `ATCGGCTAATAGCTCGA`\n",
    "\n",
    "Sequence 2 - `CTTTCTGTCCCGCCCTTCCTCTGACTGTGTCTTGATTTCCTATTCTGAGAGGCTATTGCTCAGCGGTTTC`"
   ]
  },
  {
   "cell_type": "code",
   "execution_count": null,
   "metadata": {},
   "outputs": [],
   "source": []
  },
  {
   "cell_type": "markdown",
   "metadata": {},
   "source": [
    "## Python Modules\n",
    "\n",
    "### What is a Python module?\n",
    "\n",
    "In Python, a module is a file containing Python code that can be imported and used in other Python code. A module can define functions, classes, and variables that can be used in other programs. Modules provide a way to organise code into separate files, making it easier to manage and reuse code across multiple programs. \n",
    "\n",
    "Python comes with a large number of built-in modules that provide a wide range of functionality, such as file I/O, networking, math operations, and more. You can also create your own modules by writing Python code in a file with a `.py` extension and importing it into your other Python programs. \n",
    "\n",
    "### What is a Python library?\n",
    "\n",
    "A library is a collection of pre-written code that can be imported and used in a Python program. A library typically contains a set of functions, classes, or modules that provide specific functionality. \n",
    "\n",
    "### How to use a Python module?\n",
    "\n",
    "If we are using a built-in Python module, we can load the module by using the `import` command with the module name. If we are using an external Python module, we have to download the module first and then use `import` to load. \n",
    "\n",
    "A module can provide a range of functions and constants, we need to put the function name after the module name with a dot to call the function. \n",
    "\n",
    "Here's an example of importing a built-in module in Python:"
   ]
  },
  {
   "cell_type": "code",
   "execution_count": null,
   "metadata": {},
   "outputs": [],
   "source": [
    "import math \n",
    "\n",
    "?math"
   ]
  },
  {
   "cell_type": "markdown",
   "metadata": {},
   "source": [
    "To use a function or access a constant from a module:"
   ]
  },
  {
   "cell_type": "code",
   "execution_count": null,
   "metadata": {},
   "outputs": [],
   "source": [
    "# To access the value pi from module math\n",
    "print(\"Pi is\", math.pi)\n",
    "\n",
    "# To use the sin function from module math \n",
    "x = math.sin(2*math.pi)\n",
    "print(\"The sine value of 2*pi is\", x)\n",
    "\n",
    "# To use the square root function from module math \n",
    "y = math.sqrt(2) \n",
    "print(\"The square root value of 2 is\", y)"
   ]
  },
  {
   "cell_type": "markdown",
   "metadata": {},
   "source": [
    "__We can also import specific functions or variables from a module.__\n",
    "\n",
    "In this way, we only need to use the function name to call the function, we don't need to put the module name before. "
   ]
  },
  {
   "cell_type": "code",
   "execution_count": null,
   "metadata": {},
   "outputs": [],
   "source": [
    "from math import sin, pi\n",
    "\n",
    "print(\"Pi is\", pi)\n",
    "\n",
    "x = sin(2 * pi)\n",
    "print(\"The sine value of 2*Pi is\", x)"
   ]
  },
  {
   "cell_type": "markdown",
   "metadata": {},
   "source": [
    "__We can also give a module a different name.__\n",
    "\n",
    "Some modules can have really long names and it can be difficult for us to type every time. So, it is easier if we make the module name short. "
   ]
  },
  {
   "cell_type": "code",
   "execution_count": null,
   "metadata": {
    "scrolled": true
   },
   "outputs": [],
   "source": [
    "import math as m\n",
    "\n",
    "print(\"Pi is\", m.pi)\n",
    "print(\"The sine value of 2*Pi is\", m.sin(2 * m.pi))"
   ]
  },
  {
   "cell_type": "markdown",
   "metadata": {},
   "source": [
    "__We can also import a specific function or variable from a module and give it a different name.__\n",
    "\n",
    "For example:"
   ]
  },
  {
   "cell_type": "code",
   "execution_count": null,
   "metadata": {},
   "outputs": [],
   "source": [
    "from math import sin as s \n",
    "from math import pi \n",
    "\n",
    "print(\"Pi is\", pi)\n",
    "print(\"The sine value of 2*Pi is\", s(2*pi))"
   ]
  },
  {
   "cell_type": "markdown",
   "metadata": {},
   "source": [
    "## Python Classes and Objects\n",
    "\n",
    "### What is a Python class?\n",
    "\n",
    "In Python, a class is a blueprint or template for creating objects. A class defines a set of attributes (variables) and methods (functions) that are shared by all instances (objects) of that class. Classes are a fundamental concept in object-oriented programming (OOP), which is a programming paradigm that focuses on organising code into objects and their interactions. \n",
    "\n",
    "In Python, all data types are implemented as classes. Therefore, strings, integers, and lists etc. are implemented as classes, they all have their own attributes and methods.\n",
    "\n",
    "__Python Objects:__ Objects are instances of classes. For example, string `\"Hello\"` is an object and integer `6` is also an object. \n",
    "\n",
    "### Defining a class\n",
    "\n",
    "Here's an example of defining a class:"
   ]
  },
  {
   "cell_type": "code",
   "execution_count": null,
   "metadata": {},
   "outputs": [],
   "source": [
    "class Car:\n",
    "    def __init__(self, make, model, year):\n",
    "        self.make = make\n",
    "        self.model = model\n",
    "        self.year = year\n",
    "        \n",
    "    def start(self):\n",
    "        print(\"Starting my\", self.make)\n",
    "        \n",
    "    def stop(self):\n",
    "        print(\"Stopping my\", self.make)\n",
    "        \n",
    "    def drive(self):\n",
    "        print(\"Driving my\", self.year, self.make, self.model)"
   ]
  },
  {
   "cell_type": "markdown",
   "metadata": {},
   "source": [
    "In this class, our class name is `Car`, and we can use `Car()` to create an instance of this class. We have 3 attributes which stored 3 different data of our car, they are `make`, `model`, and `year`. And our class has 3 methods which can operate on that data. Let's try create an object of the class and use its attributes and methods. "
   ]
  },
  {
   "cell_type": "code",
   "execution_count": null,
   "metadata": {},
   "outputs": [],
   "source": [
    "# create a new Car object\n",
    "my_car = Car(\"Tesla\", \"Model Y\", 2022)"
   ]
  },
  {
   "cell_type": "code",
   "execution_count": null,
   "metadata": {},
   "outputs": [],
   "source": [
    "# access the attributes in my_car\n",
    "my_car.make"
   ]
  },
  {
   "cell_type": "code",
   "execution_count": null,
   "metadata": {},
   "outputs": [],
   "source": [
    "# access the model and year attributes in my_car\n",
    "my_car.year"
   ]
  },
  {
   "cell_type": "code",
   "execution_count": null,
   "metadata": {},
   "outputs": [],
   "source": [
    "# call the methods of the car object \n",
    "my_car.start()"
   ]
  },
  {
   "cell_type": "code",
   "execution_count": null,
   "metadata": {},
   "outputs": [],
   "source": [
    "# call the drive and stop methods of my_car object \n",
    "my_car.drive()"
   ]
  },
  {
   "cell_type": "markdown",
   "metadata": {},
   "source": [
    "__Exercise 02:__\n",
    "\n",
    "Create a class called \"DNAseq\", and write three methods for the class. The class takes a string of DNA sequence as input. \n",
    "\n",
    "Method 1 - Calculate the length of the DNA sequence.\n",
    "\n",
    "Method 2 - Calculate the GC content of the DNA sequence.\n",
    "\n",
    "Method 3 - Reverse complement the DNA sequence. "
   ]
  },
  {
   "cell_type": "code",
   "execution_count": null,
   "metadata": {},
   "outputs": [],
   "source": []
  },
  {
   "cell_type": "markdown",
   "metadata": {},
   "source": [
    "In the above example, our class only has three methods. What if we have a complicated class and forget all the names for calling the attributes and methods? Don't worry, there is a built-in function in Python for us to inspect all the attributes and methods of an object. \n",
    "\n",
    "__`dir()` function:__\n",
    "\n",
    "`dir()` is a built-in function that returns a list of all the attributes and methods of an object."
   ]
  },
  {
   "cell_type": "code",
   "execution_count": null,
   "metadata": {
    "scrolled": false
   },
   "outputs": [],
   "source": [
    "dir(my_car)"
   ]
  },
  {
   "cell_type": "markdown",
   "metadata": {},
   "source": [
    "As we mentioned before, all data types are implemented as classes. So, we can also use `dir()` to inspect the built-in data types' attributes and methods. "
   ]
  },
  {
   "cell_type": "code",
   "execution_count": null,
   "metadata": {
    "scrolled": true
   },
   "outputs": [],
   "source": [
    "dir(str)"
   ]
  },
  {
   "cell_type": "markdown",
   "metadata": {},
   "source": [
    "# References\n",
    "\n",
    "* W3schools - [Python Functions](https://www.w3schools.com/python/python_functions.asp) "
   ]
  },
  {
   "cell_type": "code",
   "execution_count": null,
   "metadata": {},
   "outputs": [],
   "source": []
  }
 ],
 "metadata": {
  "kernelspec": {
   "display_name": "Python 3 (ipykernel)",
   "language": "python",
   "name": "python3"
  },
  "language_info": {
   "codemirror_mode": {
    "name": "ipython",
    "version": 3
   },
   "file_extension": ".py",
   "mimetype": "text/x-python",
   "name": "python",
   "nbconvert_exporter": "python",
   "pygments_lexer": "ipython3",
   "version": "3.11.5"
  }
 },
 "nbformat": 4,
 "nbformat_minor": 4
}
